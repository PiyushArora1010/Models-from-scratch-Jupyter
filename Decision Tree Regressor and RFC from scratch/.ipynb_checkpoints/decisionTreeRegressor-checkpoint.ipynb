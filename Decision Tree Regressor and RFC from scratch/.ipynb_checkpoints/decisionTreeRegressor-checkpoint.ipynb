{
 "cells": [
  {
   "cell_type": "code",
   "execution_count": 1,
   "id": "b09100d8",
   "metadata": {},
   "outputs": [],
   "source": [
    "import math\n",
    "import pandas as pd\n",
    "import numpy as np\n",
    "import matplotlib.pyplot as plt\n",
    "import seaborn as sns\n",
    "from sklearn.metrics import mean_squared_error as mse\n",
    "from sklearn.metrics import mean_absolute_error as mae"
   ]
  },
  {
   "cell_type": "code",
   "execution_count": 2,
   "id": "b3b6261a",
   "metadata": {},
   "outputs": [],
   "source": [
    "def r2(y_true, y_pred):\n",
    "    mean = np.mean(y_true)\n",
    "    d = 0 \n",
    "    for i in y_true:\n",
    "        d += (mean-i)**2\n",
    "    n = 0\n",
    "    for i in range(len(y_true)):\n",
    "        n += (y_true[i] - y_pred[i])**2\n",
    "    return 1 - n/d"
   ]
  },
  {
   "cell_type": "code",
   "execution_count": 3,
   "id": "8baaa347",
   "metadata": {},
   "outputs": [],
   "source": [
    "class decisionTreeRegressor:\n",
    "    def __init__(self, maxDepth, minSamples= 5):\n",
    "        self.maxDepth = maxDepth\n",
    "        self.treeNode = {}\n",
    "        self.minSamples = minSamples\n",
    "        \n",
    "    def residual(self,mean,arr):\n",
    "        sum = 0\n",
    "        for i in arr:\n",
    "            sum += (mean - i)**2\n",
    "        return sum\n",
    "    \n",
    "    def bestSplit(self,xi_,y):\n",
    "        split = float(\"inf\")\n",
    "        resi = float(\"inf\")\n",
    "        xi = np.sort(xi_)\n",
    "        avgxi = np.array([(xi[i]+xi[i+1])/2 for i in range(len(xi)-1)])\n",
    "        dicAvg = {}\n",
    "        for i in avgxi:\n",
    "         if i not in dicAvg:\n",
    "            dicAvg[i] = 1\n",
    "            yRight = y[xi >= i].copy()\n",
    "            yLeft = y[xi < i].copy()\n",
    "            if len(yRight) !=0:\n",
    "                meanRight = np.mean(yRight)\n",
    "            else:\n",
    "                meanRight = 0\n",
    "            if len(yLeft) !=0:\n",
    "                meanLeft = np.mean(yLeft)\n",
    "            else:\n",
    "                meanLeft = 0\n",
    "            tempResi = self.residual(meanRight,yRight) + self.residual(meanLeft,yLeft)\n",
    "            if tempResi < resi:\n",
    "                resi = tempResi\n",
    "                split = i\n",
    "        return resi,split\n",
    "    \n",
    "    def returnAnswer(self,y):\n",
    "       if len(y)!=0:\n",
    "        sd = np.var(y)**0.5\n",
    "        avg = np.mean(y)\n",
    "        c = np.random.normal(loc = 0, scale = 0.05, size = 1)[0]\n",
    "        return avg\n",
    "       return 0\n",
    "    \n",
    "    def fit(self,x,y,index = 0,length = 0):\n",
    "        if index == 0:\n",
    "            self.treeNode = {}\n",
    "        if length >= self.maxDepth:\n",
    "            self.treeNode[index] = 'Value:'+str(self.returnAnswer(y))\n",
    "            return\n",
    "        if len(y) <= self.minSamples:\n",
    "            self.treeNode[index] = 'Value:'+str(self.returnAnswer(y))\n",
    "            return\n",
    "        \n",
    "        split = -1\n",
    "        error = float(\"inf\")\n",
    "        valSplit = float(\"inf\")\n",
    "        \n",
    "        for i in range(x.shape[1]):\n",
    "            temp = self.bestSplit(x[:,i].copy(),y.copy())\n",
    "            if temp[0] < error:\n",
    "                error = temp[0]\n",
    "                valSplit = temp[1]\n",
    "                split = i\n",
    "\n",
    "        length+=1\n",
    "        tree.treeNode[index] = [split,valSplit]\n",
    "        \n",
    "        \n",
    "        xLeft = x[x[:,split] < valSplit].copy()\n",
    "        xRight = x[x[:,split] >= valSplit].copy()\n",
    "        yLeft = y[x[:,split] < valSplit].copy()\n",
    "        yRight = y[x[:,split] >= valSplit].copy()\n",
    "        \n",
    "        lengthCopy = length\n",
    "        \n",
    "        self.fit(xLeft,yLeft,2*index +1, lengthCopy)\n",
    "        self.fit(xRight,yRight,2*index+2, lengthCopy)\n",
    "    \n",
    "    def predictOne(self,xi):\n",
    "        i = 0\n",
    "        while type(self.treeNode[i]) != str:\n",
    "            if xi[self.treeNode[i][0]] >= self.treeNode[i][1]:\n",
    "                i = 2*i + 2\n",
    "            else:\n",
    "                i = 2*i + 1\n",
    "        return float(self.treeNode[i].split(':')[1])\n",
    "    \n",
    "    def predict(self,x):\n",
    "        y = []\n",
    "        for xi in x:\n",
    "            y.append(self.predictOne(xi))\n",
    "        return np.array(y)"
   ]
  },
  {
   "cell_type": "code",
   "execution_count": 4,
   "id": "428ee46f",
   "metadata": {},
   "outputs": [],
   "source": [
    "tree = decisionTreeRegressor(7,10)"
   ]
  },
  {
   "cell_type": "code",
   "execution_count": 5,
   "id": "edba4305",
   "metadata": {},
   "outputs": [],
   "source": [
    "df = pd.read_csv('Housing.csv')"
   ]
  },
  {
   "cell_type": "code",
   "execution_count": 6,
   "id": "c6aa3cf4",
   "metadata": {
    "scrolled": true
   },
   "outputs": [
    {
     "name": "stdout",
     "output_type": "stream",
     "text": [
      "<class 'pandas.core.frame.DataFrame'>\n",
      "RangeIndex: 545 entries, 0 to 544\n",
      "Data columns (total 13 columns):\n",
      " #   Column            Non-Null Count  Dtype \n",
      "---  ------            --------------  ----- \n",
      " 0   price             545 non-null    int64 \n",
      " 1   area              545 non-null    int64 \n",
      " 2   bedrooms          545 non-null    int64 \n",
      " 3   bathrooms         545 non-null    int64 \n",
      " 4   stories           545 non-null    int64 \n",
      " 5   mainroad          545 non-null    object\n",
      " 6   guestroom         545 non-null    object\n",
      " 7   basement          545 non-null    object\n",
      " 8   hotwaterheating   545 non-null    object\n",
      " 9   airconditioning   545 non-null    object\n",
      " 10  parking           545 non-null    int64 \n",
      " 11  prefarea          545 non-null    object\n",
      " 12  furnishingstatus  545 non-null    object\n",
      "dtypes: int64(6), object(7)\n",
      "memory usage: 55.5+ KB\n"
     ]
    }
   ],
   "source": [
    "df.info()"
   ]
  },
  {
   "cell_type": "code",
   "execution_count": 7,
   "id": "7989195b",
   "metadata": {
    "scrolled": true
   },
   "outputs": [
    {
     "data": {
      "text/html": [
       "<div>\n",
       "<style scoped>\n",
       "    .dataframe tbody tr th:only-of-type {\n",
       "        vertical-align: middle;\n",
       "    }\n",
       "\n",
       "    .dataframe tbody tr th {\n",
       "        vertical-align: top;\n",
       "    }\n",
       "\n",
       "    .dataframe thead th {\n",
       "        text-align: right;\n",
       "    }\n",
       "</style>\n",
       "<table border=\"1\" class=\"dataframe\">\n",
       "  <thead>\n",
       "    <tr style=\"text-align: right;\">\n",
       "      <th></th>\n",
       "      <th>price</th>\n",
       "      <th>area</th>\n",
       "      <th>bedrooms</th>\n",
       "      <th>bathrooms</th>\n",
       "      <th>stories</th>\n",
       "      <th>parking</th>\n",
       "    </tr>\n",
       "  </thead>\n",
       "  <tbody>\n",
       "    <tr>\n",
       "      <th>count</th>\n",
       "      <td>5.450000e+02</td>\n",
       "      <td>545.000000</td>\n",
       "      <td>545.000000</td>\n",
       "      <td>545.000000</td>\n",
       "      <td>545.000000</td>\n",
       "      <td>545.000000</td>\n",
       "    </tr>\n",
       "    <tr>\n",
       "      <th>mean</th>\n",
       "      <td>4.766729e+06</td>\n",
       "      <td>5150.541284</td>\n",
       "      <td>2.965138</td>\n",
       "      <td>1.286239</td>\n",
       "      <td>1.805505</td>\n",
       "      <td>0.693578</td>\n",
       "    </tr>\n",
       "    <tr>\n",
       "      <th>std</th>\n",
       "      <td>1.870440e+06</td>\n",
       "      <td>2170.141023</td>\n",
       "      <td>0.738064</td>\n",
       "      <td>0.502470</td>\n",
       "      <td>0.867492</td>\n",
       "      <td>0.861586</td>\n",
       "    </tr>\n",
       "    <tr>\n",
       "      <th>min</th>\n",
       "      <td>1.750000e+06</td>\n",
       "      <td>1650.000000</td>\n",
       "      <td>1.000000</td>\n",
       "      <td>1.000000</td>\n",
       "      <td>1.000000</td>\n",
       "      <td>0.000000</td>\n",
       "    </tr>\n",
       "    <tr>\n",
       "      <th>25%</th>\n",
       "      <td>3.430000e+06</td>\n",
       "      <td>3600.000000</td>\n",
       "      <td>2.000000</td>\n",
       "      <td>1.000000</td>\n",
       "      <td>1.000000</td>\n",
       "      <td>0.000000</td>\n",
       "    </tr>\n",
       "    <tr>\n",
       "      <th>50%</th>\n",
       "      <td>4.340000e+06</td>\n",
       "      <td>4600.000000</td>\n",
       "      <td>3.000000</td>\n",
       "      <td>1.000000</td>\n",
       "      <td>2.000000</td>\n",
       "      <td>0.000000</td>\n",
       "    </tr>\n",
       "    <tr>\n",
       "      <th>75%</th>\n",
       "      <td>5.740000e+06</td>\n",
       "      <td>6360.000000</td>\n",
       "      <td>3.000000</td>\n",
       "      <td>2.000000</td>\n",
       "      <td>2.000000</td>\n",
       "      <td>1.000000</td>\n",
       "    </tr>\n",
       "    <tr>\n",
       "      <th>max</th>\n",
       "      <td>1.330000e+07</td>\n",
       "      <td>16200.000000</td>\n",
       "      <td>6.000000</td>\n",
       "      <td>4.000000</td>\n",
       "      <td>4.000000</td>\n",
       "      <td>3.000000</td>\n",
       "    </tr>\n",
       "  </tbody>\n",
       "</table>\n",
       "</div>"
      ],
      "text/plain": [
       "              price          area    bedrooms   bathrooms     stories  \\\n",
       "count  5.450000e+02    545.000000  545.000000  545.000000  545.000000   \n",
       "mean   4.766729e+06   5150.541284    2.965138    1.286239    1.805505   \n",
       "std    1.870440e+06   2170.141023    0.738064    0.502470    0.867492   \n",
       "min    1.750000e+06   1650.000000    1.000000    1.000000    1.000000   \n",
       "25%    3.430000e+06   3600.000000    2.000000    1.000000    1.000000   \n",
       "50%    4.340000e+06   4600.000000    3.000000    1.000000    2.000000   \n",
       "75%    5.740000e+06   6360.000000    3.000000    2.000000    2.000000   \n",
       "max    1.330000e+07  16200.000000    6.000000    4.000000    4.000000   \n",
       "\n",
       "          parking  \n",
       "count  545.000000  \n",
       "mean     0.693578  \n",
       "std      0.861586  \n",
       "min      0.000000  \n",
       "25%      0.000000  \n",
       "50%      0.000000  \n",
       "75%      1.000000  \n",
       "max      3.000000  "
      ]
     },
     "execution_count": 7,
     "metadata": {},
     "output_type": "execute_result"
    }
   ],
   "source": [
    "df.describe()"
   ]
  },
  {
   "cell_type": "code",
   "execution_count": 8,
   "id": "d4804000",
   "metadata": {
    "scrolled": true
   },
   "outputs": [
    {
     "data": {
      "text/html": [
       "<div>\n",
       "<style scoped>\n",
       "    .dataframe tbody tr th:only-of-type {\n",
       "        vertical-align: middle;\n",
       "    }\n",
       "\n",
       "    .dataframe tbody tr th {\n",
       "        vertical-align: top;\n",
       "    }\n",
       "\n",
       "    .dataframe thead th {\n",
       "        text-align: right;\n",
       "    }\n",
       "</style>\n",
       "<table border=\"1\" class=\"dataframe\">\n",
       "  <thead>\n",
       "    <tr style=\"text-align: right;\">\n",
       "      <th></th>\n",
       "      <th>price</th>\n",
       "      <th>area</th>\n",
       "      <th>bedrooms</th>\n",
       "      <th>bathrooms</th>\n",
       "      <th>stories</th>\n",
       "      <th>mainroad</th>\n",
       "      <th>guestroom</th>\n",
       "      <th>basement</th>\n",
       "      <th>hotwaterheating</th>\n",
       "      <th>airconditioning</th>\n",
       "      <th>parking</th>\n",
       "      <th>prefarea</th>\n",
       "      <th>furnishingstatus</th>\n",
       "    </tr>\n",
       "  </thead>\n",
       "  <tbody>\n",
       "    <tr>\n",
       "      <th>0</th>\n",
       "      <td>13300000</td>\n",
       "      <td>7420</td>\n",
       "      <td>4</td>\n",
       "      <td>2</td>\n",
       "      <td>3</td>\n",
       "      <td>yes</td>\n",
       "      <td>no</td>\n",
       "      <td>no</td>\n",
       "      <td>no</td>\n",
       "      <td>yes</td>\n",
       "      <td>2</td>\n",
       "      <td>yes</td>\n",
       "      <td>furnished</td>\n",
       "    </tr>\n",
       "    <tr>\n",
       "      <th>1</th>\n",
       "      <td>12250000</td>\n",
       "      <td>8960</td>\n",
       "      <td>4</td>\n",
       "      <td>4</td>\n",
       "      <td>4</td>\n",
       "      <td>yes</td>\n",
       "      <td>no</td>\n",
       "      <td>no</td>\n",
       "      <td>no</td>\n",
       "      <td>yes</td>\n",
       "      <td>3</td>\n",
       "      <td>no</td>\n",
       "      <td>furnished</td>\n",
       "    </tr>\n",
       "    <tr>\n",
       "      <th>2</th>\n",
       "      <td>12250000</td>\n",
       "      <td>9960</td>\n",
       "      <td>3</td>\n",
       "      <td>2</td>\n",
       "      <td>2</td>\n",
       "      <td>yes</td>\n",
       "      <td>no</td>\n",
       "      <td>yes</td>\n",
       "      <td>no</td>\n",
       "      <td>no</td>\n",
       "      <td>2</td>\n",
       "      <td>yes</td>\n",
       "      <td>semi-furnished</td>\n",
       "    </tr>\n",
       "    <tr>\n",
       "      <th>3</th>\n",
       "      <td>12215000</td>\n",
       "      <td>7500</td>\n",
       "      <td>4</td>\n",
       "      <td>2</td>\n",
       "      <td>2</td>\n",
       "      <td>yes</td>\n",
       "      <td>no</td>\n",
       "      <td>yes</td>\n",
       "      <td>no</td>\n",
       "      <td>yes</td>\n",
       "      <td>3</td>\n",
       "      <td>yes</td>\n",
       "      <td>furnished</td>\n",
       "    </tr>\n",
       "    <tr>\n",
       "      <th>4</th>\n",
       "      <td>11410000</td>\n",
       "      <td>7420</td>\n",
       "      <td>4</td>\n",
       "      <td>1</td>\n",
       "      <td>2</td>\n",
       "      <td>yes</td>\n",
       "      <td>yes</td>\n",
       "      <td>yes</td>\n",
       "      <td>no</td>\n",
       "      <td>yes</td>\n",
       "      <td>2</td>\n",
       "      <td>no</td>\n",
       "      <td>furnished</td>\n",
       "    </tr>\n",
       "  </tbody>\n",
       "</table>\n",
       "</div>"
      ],
      "text/plain": [
       "      price  area  bedrooms  bathrooms  stories mainroad guestroom basement  \\\n",
       "0  13300000  7420         4          2        3      yes        no       no   \n",
       "1  12250000  8960         4          4        4      yes        no       no   \n",
       "2  12250000  9960         3          2        2      yes        no      yes   \n",
       "3  12215000  7500         4          2        2      yes        no      yes   \n",
       "4  11410000  7420         4          1        2      yes       yes      yes   \n",
       "\n",
       "  hotwaterheating airconditioning  parking prefarea furnishingstatus  \n",
       "0              no             yes        2      yes        furnished  \n",
       "1              no             yes        3       no        furnished  \n",
       "2              no              no        2      yes   semi-furnished  \n",
       "3              no             yes        3      yes        furnished  \n",
       "4              no             yes        2       no        furnished  "
      ]
     },
     "execution_count": 8,
     "metadata": {},
     "output_type": "execute_result"
    }
   ],
   "source": [
    "df.head()"
   ]
  },
  {
   "cell_type": "code",
   "execution_count": 9,
   "id": "3b52bdc7",
   "metadata": {
    "scrolled": false
   },
   "outputs": [
    {
     "name": "stdout",
     "output_type": "stream",
     "text": [
      "price 219\n",
      "area 284\n",
      "bedrooms 6\n",
      "bathrooms 4\n",
      "stories 4\n",
      "mainroad 2\n",
      "guestroom 2\n",
      "basement 2\n",
      "hotwaterheating 2\n",
      "airconditioning 2\n",
      "parking 4\n",
      "prefarea 2\n",
      "furnishingstatus 3\n"
     ]
    }
   ],
   "source": [
    "for i in df.columns:\n",
    "    print(i,df[i].nunique())"
   ]
  },
  {
   "cell_type": "code",
   "execution_count": 10,
   "id": "8189b0a6",
   "metadata": {
    "scrolled": true
   },
   "outputs": [
    {
     "data": {
      "text/html": [
       "<div>\n",
       "<style scoped>\n",
       "    .dataframe tbody tr th:only-of-type {\n",
       "        vertical-align: middle;\n",
       "    }\n",
       "\n",
       "    .dataframe tbody tr th {\n",
       "        vertical-align: top;\n",
       "    }\n",
       "\n",
       "    .dataframe thead th {\n",
       "        text-align: right;\n",
       "    }\n",
       "</style>\n",
       "<table border=\"1\" class=\"dataframe\">\n",
       "  <thead>\n",
       "    <tr style=\"text-align: right;\">\n",
       "      <th></th>\n",
       "      <th>price</th>\n",
       "      <th>area</th>\n",
       "      <th>bedrooms</th>\n",
       "      <th>bathrooms</th>\n",
       "      <th>stories</th>\n",
       "      <th>mainroad</th>\n",
       "      <th>guestroom</th>\n",
       "      <th>basement</th>\n",
       "      <th>hotwaterheating</th>\n",
       "      <th>airconditioning</th>\n",
       "      <th>parking</th>\n",
       "      <th>prefarea</th>\n",
       "      <th>furnishingstatus</th>\n",
       "    </tr>\n",
       "  </thead>\n",
       "  <tbody>\n",
       "    <tr>\n",
       "      <th>0</th>\n",
       "      <td>13300000</td>\n",
       "      <td>7420</td>\n",
       "      <td>4</td>\n",
       "      <td>2</td>\n",
       "      <td>3</td>\n",
       "      <td>yes</td>\n",
       "      <td>no</td>\n",
       "      <td>no</td>\n",
       "      <td>no</td>\n",
       "      <td>yes</td>\n",
       "      <td>2</td>\n",
       "      <td>yes</td>\n",
       "      <td>furnished</td>\n",
       "    </tr>\n",
       "    <tr>\n",
       "      <th>1</th>\n",
       "      <td>12250000</td>\n",
       "      <td>8960</td>\n",
       "      <td>4</td>\n",
       "      <td>4</td>\n",
       "      <td>4</td>\n",
       "      <td>yes</td>\n",
       "      <td>no</td>\n",
       "      <td>no</td>\n",
       "      <td>no</td>\n",
       "      <td>yes</td>\n",
       "      <td>3</td>\n",
       "      <td>no</td>\n",
       "      <td>furnished</td>\n",
       "    </tr>\n",
       "    <tr>\n",
       "      <th>2</th>\n",
       "      <td>12250000</td>\n",
       "      <td>9960</td>\n",
       "      <td>3</td>\n",
       "      <td>2</td>\n",
       "      <td>2</td>\n",
       "      <td>yes</td>\n",
       "      <td>no</td>\n",
       "      <td>yes</td>\n",
       "      <td>no</td>\n",
       "      <td>no</td>\n",
       "      <td>2</td>\n",
       "      <td>yes</td>\n",
       "      <td>semi-furnished</td>\n",
       "    </tr>\n",
       "    <tr>\n",
       "      <th>3</th>\n",
       "      <td>12215000</td>\n",
       "      <td>7500</td>\n",
       "      <td>4</td>\n",
       "      <td>2</td>\n",
       "      <td>2</td>\n",
       "      <td>yes</td>\n",
       "      <td>no</td>\n",
       "      <td>yes</td>\n",
       "      <td>no</td>\n",
       "      <td>yes</td>\n",
       "      <td>3</td>\n",
       "      <td>yes</td>\n",
       "      <td>furnished</td>\n",
       "    </tr>\n",
       "    <tr>\n",
       "      <th>4</th>\n",
       "      <td>11410000</td>\n",
       "      <td>7420</td>\n",
       "      <td>4</td>\n",
       "      <td>1</td>\n",
       "      <td>2</td>\n",
       "      <td>yes</td>\n",
       "      <td>yes</td>\n",
       "      <td>yes</td>\n",
       "      <td>no</td>\n",
       "      <td>yes</td>\n",
       "      <td>2</td>\n",
       "      <td>no</td>\n",
       "      <td>furnished</td>\n",
       "    </tr>\n",
       "  </tbody>\n",
       "</table>\n",
       "</div>"
      ],
      "text/plain": [
       "      price  area  bedrooms  bathrooms  stories mainroad guestroom basement  \\\n",
       "0  13300000  7420         4          2        3      yes        no       no   \n",
       "1  12250000  8960         4          4        4      yes        no       no   \n",
       "2  12250000  9960         3          2        2      yes        no      yes   \n",
       "3  12215000  7500         4          2        2      yes        no      yes   \n",
       "4  11410000  7420         4          1        2      yes       yes      yes   \n",
       "\n",
       "  hotwaterheating airconditioning  parking prefarea furnishingstatus  \n",
       "0              no             yes        2      yes        furnished  \n",
       "1              no             yes        3       no        furnished  \n",
       "2              no              no        2      yes   semi-furnished  \n",
       "3              no             yes        3      yes        furnished  \n",
       "4              no             yes        2       no        furnished  "
      ]
     },
     "execution_count": 10,
     "metadata": {},
     "output_type": "execute_result"
    }
   ],
   "source": [
    "df.head()"
   ]
  },
  {
   "cell_type": "code",
   "execution_count": 11,
   "id": "54b3e765",
   "metadata": {},
   "outputs": [],
   "source": [
    "for col in df.columns[5:10]:\n",
    "    df.loc[df[col]=='yes',col] = 1\n",
    "    df.loc[df[col]=='no',col] = 0"
   ]
  },
  {
   "cell_type": "code",
   "execution_count": 12,
   "id": "1596bb99",
   "metadata": {},
   "outputs": [],
   "source": [
    "df.loc[df['prefarea']=='yes','prefarea'] = 1\n",
    "df.loc[df['prefarea']=='no','prefarea'] = 0"
   ]
  },
  {
   "cell_type": "code",
   "execution_count": 13,
   "id": "96ab62a5",
   "metadata": {},
   "outputs": [],
   "source": [
    "df = pd.get_dummies( data = df, columns=['furnishingstatus'], prefix_sep='', prefix = '')"
   ]
  },
  {
   "cell_type": "code",
   "execution_count": 14,
   "id": "1ab35f1a",
   "metadata": {
    "scrolled": true
   },
   "outputs": [
    {
     "data": {
      "text/html": [
       "<div>\n",
       "<style scoped>\n",
       "    .dataframe tbody tr th:only-of-type {\n",
       "        vertical-align: middle;\n",
       "    }\n",
       "\n",
       "    .dataframe tbody tr th {\n",
       "        vertical-align: top;\n",
       "    }\n",
       "\n",
       "    .dataframe thead th {\n",
       "        text-align: right;\n",
       "    }\n",
       "</style>\n",
       "<table border=\"1\" class=\"dataframe\">\n",
       "  <thead>\n",
       "    <tr style=\"text-align: right;\">\n",
       "      <th></th>\n",
       "      <th>price</th>\n",
       "      <th>area</th>\n",
       "      <th>bedrooms</th>\n",
       "      <th>bathrooms</th>\n",
       "      <th>stories</th>\n",
       "      <th>mainroad</th>\n",
       "      <th>guestroom</th>\n",
       "      <th>basement</th>\n",
       "      <th>hotwaterheating</th>\n",
       "      <th>airconditioning</th>\n",
       "      <th>parking</th>\n",
       "      <th>prefarea</th>\n",
       "      <th>furnished</th>\n",
       "      <th>semi-furnished</th>\n",
       "      <th>unfurnished</th>\n",
       "    </tr>\n",
       "  </thead>\n",
       "  <tbody>\n",
       "    <tr>\n",
       "      <th>0</th>\n",
       "      <td>13300000</td>\n",
       "      <td>7420</td>\n",
       "      <td>4</td>\n",
       "      <td>2</td>\n",
       "      <td>3</td>\n",
       "      <td>1</td>\n",
       "      <td>0</td>\n",
       "      <td>0</td>\n",
       "      <td>0</td>\n",
       "      <td>1</td>\n",
       "      <td>2</td>\n",
       "      <td>1</td>\n",
       "      <td>1</td>\n",
       "      <td>0</td>\n",
       "      <td>0</td>\n",
       "    </tr>\n",
       "    <tr>\n",
       "      <th>1</th>\n",
       "      <td>12250000</td>\n",
       "      <td>8960</td>\n",
       "      <td>4</td>\n",
       "      <td>4</td>\n",
       "      <td>4</td>\n",
       "      <td>1</td>\n",
       "      <td>0</td>\n",
       "      <td>0</td>\n",
       "      <td>0</td>\n",
       "      <td>1</td>\n",
       "      <td>3</td>\n",
       "      <td>0</td>\n",
       "      <td>1</td>\n",
       "      <td>0</td>\n",
       "      <td>0</td>\n",
       "    </tr>\n",
       "    <tr>\n",
       "      <th>2</th>\n",
       "      <td>12250000</td>\n",
       "      <td>9960</td>\n",
       "      <td>3</td>\n",
       "      <td>2</td>\n",
       "      <td>2</td>\n",
       "      <td>1</td>\n",
       "      <td>0</td>\n",
       "      <td>1</td>\n",
       "      <td>0</td>\n",
       "      <td>0</td>\n",
       "      <td>2</td>\n",
       "      <td>1</td>\n",
       "      <td>0</td>\n",
       "      <td>1</td>\n",
       "      <td>0</td>\n",
       "    </tr>\n",
       "    <tr>\n",
       "      <th>3</th>\n",
       "      <td>12215000</td>\n",
       "      <td>7500</td>\n",
       "      <td>4</td>\n",
       "      <td>2</td>\n",
       "      <td>2</td>\n",
       "      <td>1</td>\n",
       "      <td>0</td>\n",
       "      <td>1</td>\n",
       "      <td>0</td>\n",
       "      <td>1</td>\n",
       "      <td>3</td>\n",
       "      <td>1</td>\n",
       "      <td>1</td>\n",
       "      <td>0</td>\n",
       "      <td>0</td>\n",
       "    </tr>\n",
       "    <tr>\n",
       "      <th>4</th>\n",
       "      <td>11410000</td>\n",
       "      <td>7420</td>\n",
       "      <td>4</td>\n",
       "      <td>1</td>\n",
       "      <td>2</td>\n",
       "      <td>1</td>\n",
       "      <td>1</td>\n",
       "      <td>1</td>\n",
       "      <td>0</td>\n",
       "      <td>1</td>\n",
       "      <td>2</td>\n",
       "      <td>0</td>\n",
       "      <td>1</td>\n",
       "      <td>0</td>\n",
       "      <td>0</td>\n",
       "    </tr>\n",
       "  </tbody>\n",
       "</table>\n",
       "</div>"
      ],
      "text/plain": [
       "      price  area  bedrooms  bathrooms  stories mainroad guestroom basement  \\\n",
       "0  13300000  7420         4          2        3        1         0        0   \n",
       "1  12250000  8960         4          4        4        1         0        0   \n",
       "2  12250000  9960         3          2        2        1         0        1   \n",
       "3  12215000  7500         4          2        2        1         0        1   \n",
       "4  11410000  7420         4          1        2        1         1        1   \n",
       "\n",
       "  hotwaterheating airconditioning  parking prefarea  furnished  \\\n",
       "0               0               1        2        1          1   \n",
       "1               0               1        3        0          1   \n",
       "2               0               0        2        1          0   \n",
       "3               0               1        3        1          1   \n",
       "4               0               1        2        0          1   \n",
       "\n",
       "   semi-furnished  unfurnished  \n",
       "0               0            0  \n",
       "1               0            0  \n",
       "2               1            0  \n",
       "3               0            0  \n",
       "4               0            0  "
      ]
     },
     "execution_count": 14,
     "metadata": {},
     "output_type": "execute_result"
    }
   ],
   "source": [
    "df.head()"
   ]
  },
  {
   "cell_type": "code",
   "execution_count": 15,
   "id": "c7eb3b19",
   "metadata": {},
   "outputs": [
    {
     "data": {
      "text/plain": [
       "<AxesSubplot:xlabel='price'>"
      ]
     },
     "execution_count": 15,
     "metadata": {},
     "output_type": "execute_result"
    },
    {
     "data": {
      "image/png": "[encoded data removed]",
      "text/plain": [
       "<Figure size 432x288 with 1 Axes>"
      ]
     },
     "metadata": {
      "needs_background": "light"
     },
     "output_type": "display_data"
    }
   ],
   "source": [
    "sns.boxplot(x = 'price', data = df)"
   ]
  },
  {
   "cell_type": "code",
   "execution_count": 16,
   "id": "894bdb92",
   "metadata": {},
   "outputs": [],
   "source": [
    "rows2Delete = np.where(df['price'] > 0.86e7)"
   ]
  },
  {
   "cell_type": "code",
   "execution_count": 17,
   "id": "58ccea80",
   "metadata": {},
   "outputs": [],
   "source": [
    "for i in rows2Delete:\n",
    "    df.drop(i, inplace = True)\n",
    "df.reset_index(inplace = True, drop = True)"
   ]
  },
  {
   "cell_type": "code",
   "execution_count": 18,
   "id": "57327a80",
   "metadata": {},
   "outputs": [
    {
     "data": {
      "text/plain": [
       "(array([ 0,  1,  2,  3,  4,  5,  6,  7,  8,  9, 10, 11, 12, 13, 14, 15, 16,\n",
       "        17, 18, 19, 20, 21, 22, 23], dtype=int64),)"
      ]
     },
     "execution_count": 18,
     "metadata": {},
     "output_type": "execute_result"
    }
   ],
   "source": [
    "rows2Delete"
   ]
  },
  {
   "cell_type": "code",
   "execution_count": 19,
   "id": "a733bb89",
   "metadata": {},
   "outputs": [
    {
     "data": {
      "text/plain": [
       "<AxesSubplot:xlabel='price'>"
      ]
     },
     "execution_count": 19,
     "metadata": {},
     "output_type": "execute_result"
    },
    {
     "data": {
      "image/png": "[encoded data removed]",
      "text/plain": [
       "<Figure size 432x288 with 1 Axes>"
      ]
     },
     "metadata": {
      "needs_background": "light"
     },
     "output_type": "display_data"
    }
   ],
   "source": [
    "sns.boxplot(x = 'price', data = df)"
   ]
  },
  {
   "cell_type": "code",
   "execution_count": 20,
   "id": "5dd71f20",
   "metadata": {},
   "outputs": [],
   "source": [
    "y = np.array(df['price'])\n",
    "X = np.array(df.iloc[:,1:])"
   ]
  },
  {
   "cell_type": "code",
   "execution_count": 21,
   "id": "fe339ddf",
   "metadata": {},
   "outputs": [],
   "source": [
    "from sklearn.model_selection import train_test_split as tts"
   ]
  },
  {
   "cell_type": "code",
   "execution_count": 22,
   "id": "c9847a54",
   "metadata": {},
   "outputs": [],
   "source": [
    "X_train, X_test , y_train, y_test = tts(X,y,test_size=0.3, random_state=12)"
   ]
  },
  {
   "cell_type": "code",
   "execution_count": 23,
   "id": "4583a1d8",
   "metadata": {
    "scrolled": true
   },
   "outputs": [],
   "source": [
    "tree.fit(X_train,y_train)"
   ]
  },
  {
   "cell_type": "code",
   "execution_count": 24,
   "id": "bb42d493",
   "metadata": {},
   "outputs": [],
   "source": [
    "y_pred = tree.predict(X_test)"
   ]
  },
  {
   "cell_type": "code",
   "execution_count": 25,
   "id": "ec1fddfe",
   "metadata": {
    "scrolled": true
   },
   "outputs": [
    {
     "data": {
      "text/plain": [
       "array([[4300, 3, 2, ..., 0, 0, 1],\n",
       "       [3180, 4, 2, ..., 1, 0, 0],\n",
       "       [5400, 2, 1, ..., 0, 1, 0],\n",
       "       ...,\n",
       "       [2880, 3, 1, ..., 0, 1, 0],\n",
       "       [10360, 2, 1, ..., 0, 1, 0],\n",
       "       [4040, 2, 1, ..., 0, 0, 1]], dtype=object)"
      ]
     },
     "execution_count": 25,
     "metadata": {},
     "output_type": "execute_result"
    }
   ],
   "source": [
    "X_train"
   ]
  },
  {
   "cell_type": "code",
   "execution_count": 26,
   "id": "7d6ba376",
   "metadata": {
    "scrolled": true
   },
   "outputs": [
    {
     "data": {
      "text/plain": [
       "array([7455000, 3885000, 4690000, 4200000, 2590000, 3360000, 2450000,\n",
       "       4515000, 4060000, 4690000, 6650000, 2100000, 3003000, 6440000,\n",
       "       4270000, 5285000, 2940000, 3500000, 3493000, 2275000, 3605000,\n",
       "       3710000, 2380000, 3535000, 2852500, 2520000, 5460000, 2961000,\n",
       "       3150000, 6895000, 3150000, 4200000, 6020000, 3640000, 4340000,\n",
       "       5565000, 3850000, 2485000, 2310000, 3360000, 4900000, 4025000,\n",
       "       3745000, 2275000, 3220000, 4123000, 3500000, 3290000, 4193000,\n",
       "       6930000, 3920000, 5250000, 5775000, 3990000, 4795000, 2590000,\n",
       "       3010000, 3080000, 5600000, 6475000, 3360000, 3010000, 4690000,\n",
       "       5215000, 3500000, 4900000, 5530000, 3570000, 7210000, 5880000,\n",
       "       6265000, 8400000, 5866000, 7420000, 3465000, 5600000, 2870000,\n",
       "       2653000, 8400000, 5425000, 7490000, 3360000, 6125000, 5600000,\n",
       "       3920000, 3675000, 3500000, 8400000, 1890000, 4550000, 3395000,\n",
       "       5320000, 3640000, 8295000, 5110000, 2520000, 3605000, 6629000,\n",
       "       4200000, 4007500, 6650000, 5950000, 3430000, 7700000, 5383000,\n",
       "       4277000, 8400000, 3150000, 7350000, 3500000, 6755000, 6230000,\n",
       "       1820000, 3010000, 6083000, 3045000, 3703000, 6405000, 2870000,\n",
       "       6650000, 7070000, 3570000, 4620000, 3640000, 3150000, 3836000,\n",
       "       3290000, 3500000, 3430000, 5652500, 2604000, 7525000, 4830000,\n",
       "       3710000, 3353000, 7343000, 2100000, 7350000, 3500000, 3255000,\n",
       "       5495000, 4543000, 7140000, 4403000, 3920000, 8120000, 5075000,\n",
       "       4620000, 4480000, 4935000, 7980000, 4893000, 4060000, 6650000,\n",
       "       5530000, 4900000, 3500000, 3360000, 5460000, 4445000, 2940000,\n",
       "       5950000, 7700000, 4130000, 4550000, 4550000, 5250000, 3500000,\n",
       "       2660000, 2275000, 4403000, 3430000, 2835000, 4235000, 4200000,\n",
       "       4970000, 3640000, 4480000, 5250000, 3850000, 1750000, 3640000,\n",
       "       4200000, 6300000, 4060000, 3010000, 4200000, 6790000, 4970000,\n",
       "       7245000, 7910000, 3150000, 4200000, 2450000, 4060000, 3500000,\n",
       "       7840000, 2485000, 4900000, 5110000, 5740000, 5950000, 5950000,\n",
       "       3780000, 4550000, 4830000, 3500000, 2408000, 4550000, 3360000,\n",
       "       2450000, 4830000, 5950000, 5810000, 3129000, 4585000, 3500000,\n",
       "       4550000, 2520000, 4473000, 4165000, 3234000, 4165000, 3290000,\n",
       "       5523000, 6195000, 3675000, 2800000, 1855000, 3430000, 5229000,\n",
       "       3780000, 4620000, 6230000, 5460000, 6790000, 6650000, 5740000,\n",
       "       3780000, 5110000, 4795000, 3290000, 4340000, 8463000, 7350000,\n",
       "       5215000, 2660000, 8190000, 3780000, 3290000, 2835000, 5243000,\n",
       "       5950000, 4410000, 5880000, 4900000, 6615000, 4585000, 3710000,\n",
       "       5250000, 5040000, 5740000, 4270000, 2450000, 2940000, 2380000,\n",
       "       1960000, 6020000, 5740000, 6300000, 5740000, 2730000, 5600000,\n",
       "       4200000, 3115000, 2653000, 4025000, 4900000, 4767000, 5873000,\n",
       "       3290000, 7560000, 4473000, 4620000, 4900000, 4900000, 3500000,\n",
       "       3633000, 6107500, 6580000, 6615000, 5215000, 5530000, 2590000,\n",
       "       3780000, 4760000, 5005000, 6510000, 4907000, 5810000, 3920000,\n",
       "       2870000, 4900000, 3815000, 3500000, 4375000, 4690000, 3150000,\n",
       "       4007500, 6440000, 2940000, 4270000, 3920000, 4543000, 4340000,\n",
       "       7420000, 3710000, 2695000, 2660000, 1890000, 4900000, 7420000,\n",
       "       5803000, 5110000, 4410000, 3255000, 4956000, 6300000, 5810000,\n",
       "       5600000, 5495000, 2800000, 4655000, 3115000, 2730000, 5250000,\n",
       "       3640000, 3010000, 5600000, 5145000, 3220000, 3220000, 5950000,\n",
       "       3010000, 4095000, 6083000, 6160000, 4200000, 4690000, 5873000,\n",
       "       3500000, 3430000, 6293000, 5600000, 2940000, 3220000, 2660000,\n",
       "       6685000, 4200000, 3118850, 4270000, 4403000, 4305000, 3423000],\n",
       "      dtype=int64)"
      ]
     },
     "execution_count": 26,
     "metadata": {},
     "output_type": "execute_result"
    }
   ],
   "source": [
    "y_train"
   ]
  },
  {
   "cell_type": "code",
   "execution_count": 27,
   "id": "1f5ceadd",
   "metadata": {},
   "outputs": [],
   "source": [
    "def kFold(x,y,model,k=5):\n",
    "    xlist = []\n",
    "    ylist = []\n",
    "    part = int(len(x)/k)\n",
    "    for i in range(k):\n",
    "        tempx = [x[j] for j in range(part*i ,part*i + part)]\n",
    "        tempy = [y[j] for j in range(part*i, part*i + part)]\n",
    "        xlist.append(tempx)\n",
    "        ylist.append(tempy)\n",
    "    res = []\n",
    "    for i in range(k):\n",
    "        xtrain = []\n",
    "        ytrain = []\n",
    "        xtest = []\n",
    "        ytest = []\n",
    "        for j in range(k):\n",
    "            if i!=j:\n",
    "                xtrain.extend(xlist[j])\n",
    "                ytrain.extend(ylist[j])\n",
    "            else:\n",
    "                xtest.extend(xlist[j])\n",
    "                ytest.extend(ylist[j])\n",
    "        model.fit(np.array(xtrain),np.array(ytrain))\n",
    "        ypred = model.predict(np.array(xtest))\n",
    "        res.append(mse(ypred,np.array(ytest))**0.5)\n",
    "    return res , np.mean(np.array(res))"
   ]
  },
  {
   "cell_type": "code",
   "execution_count": 28,
   "id": "97463f9c",
   "metadata": {
    "scrolled": true
   },
   "outputs": [
    {
     "data": {
      "text/plain": [
       "([1246403.7125608495,\n",
       "  1402642.3388282019,\n",
       "  1256264.9788725106,\n",
       "  1107798.8328143212,\n",
       "  1205081.0778972576],\n",
       " 1243638.188194628)"
      ]
     },
     "execution_count": 28,
     "metadata": {},
     "output_type": "execute_result"
    }
   ],
   "source": [
    "kFold(X_train,y_train,tree)"
   ]
  },
  {
   "cell_type": "code",
   "execution_count": 29,
   "id": "5d85a03f",
   "metadata": {},
   "outputs": [],
   "source": [
    "maxDepth = [7,8,9,10,11,12]\n",
    "dictionaryErrors = []\n",
    "depths = []\n",
    "for i in maxDepth:\n",
    "    tree = decisionTreeRegressor(i,10)\n",
    "    _ , error = kFold(X_train, y_train , tree)\n",
    "    dictionaryErrors.extend(_)\n",
    "    depths.extend([i,]*len(_))"
   ]
  },
  {
   "cell_type": "code",
   "execution_count": 30,
   "id": "188d6101",
   "metadata": {},
   "outputs": [
    {
     "data": {
      "text/plain": [
       "<AxesSubplot:>"
      ]
     },
     "execution_count": 30,
     "metadata": {},
     "output_type": "execute_result"
    },
    {
     "data": {
      "image/png": "[encoded data removed]",
      "text/plain": [
       "<Figure size 432x288 with 1 Axes>"
      ]
     },
     "metadata": {
      "needs_background": "light"
     },
     "output_type": "display_data"
    }
   ],
   "source": [
    "sns.swarmplot(x = depths, y = dictionaryErrors)"
   ]
  },
  {
   "cell_type": "code",
   "execution_count": 31,
   "id": "6c523bd7",
   "metadata": {},
   "outputs": [],
   "source": [
    "def baggingSplit(x,y,sampleSplit):\n",
    "    returnArray = []\n",
    "    ix = np.random.randint(0,len(x),int(sampleSplit * len(x)))\n",
    "    returnArray.append(x[ix].copy())\n",
    "    returnArray.append(y[ix].copy())\n",
    "    return returnArray"
   ]
  },
  {
   "cell_type": "code",
   "execution_count": 32,
   "id": "295e523e",
   "metadata": {},
   "outputs": [],
   "source": [
    "def bagging(model,xtrain, ytrain, xtest, ytest, sampleSplit = 0.8,nEstimators = 10):\n",
    "    res = {}\n",
    "    count = 0\n",
    "    trees = {}\n",
    "    yPredict = []\n",
    "    while count != nEstimators:\n",
    "        array = baggingSplit(xtrain,ytrain,sampleSplit)\n",
    "        xTr = array[0]\n",
    "        yTr = array[1]\n",
    "        model.fit(xTr,yTr)\n",
    "        yPr = model.predict(xtest)\n",
    "        if r2(yPr,ytest) >= -0.2:\n",
    "            res[count+1] = (r2(ytest,yPr))\n",
    "            trees[count+1] = model.treeNode.copy()\n",
    "            yPredict.append(yPr)\n",
    "            count+=1\n",
    "    avgY = []\n",
    "    for i in range(len(ytest)):\n",
    "        sum = 0\n",
    "        for j in range(nEstimators):\n",
    "            sum+=yPredict[j][i]\n",
    "        avgY.append(sum / nEstimators)\n",
    "    return np.array(avgY), res , r2(ytest, avgY), trees"
   ]
  },
  {
   "cell_type": "code",
   "execution_count": 33,
   "id": "187c54a1",
   "metadata": {},
   "outputs": [],
   "source": [
    "tree = decisionTreeRegressor(12,5)"
   ]
  },
  {
   "cell_type": "code",
   "execution_count": 34,
   "id": "5ec85875",
   "metadata": {},
   "outputs": [],
   "source": [
    "treesResult = bagging(tree, X_train, y_train, X_test, y_test)"
   ]
  },
  {
   "cell_type": "code",
   "execution_count": 35,
   "id": "3091ff66",
   "metadata": {
    "scrolled": true
   },
   "outputs": [
    {
     "name": "stdout",
     "output_type": "stream",
     "text": [
      "r2 Score for each tree:\n",
      "1 ==> 0.3948254783204499\n",
      "2 ==> 0.2991608024391139\n",
      "3 ==> 0.27261552183723603\n",
      "4 ==> 0.4157887640865685\n",
      "5 ==> 0.3345692085307367\n",
      "6 ==> 0.08607408981986886\n",
      "7 ==> 0.36999805356825366\n",
      "8 ==> 0.24678651365992121\n",
      "9 ==> 0.3482639098547915\n",
      "10 ==> 0.3890644942646647\n"
     ]
    }
   ],
   "source": [
    "print(\"r2 Score for each tree:\")\n",
    "for i in range(len(treesResult[1])):\n",
    "    print(i+1,'==>',treesResult[1][i+1])"
   ]
  },
  {
   "cell_type": "code",
   "execution_count": 36,
   "id": "71e0f558",
   "metadata": {},
   "outputs": [
    {
     "name": "stdout",
     "output_type": "stream",
     "text": [
      "r2 Score: 0.5551413065762416\n"
     ]
    }
   ],
   "source": [
    "print(\"r2 Score:\",treesResult[2])"
   ]
  },
  {
   "cell_type": "code",
   "execution_count": 37,
   "id": "1d1a2a60",
   "metadata": {},
   "outputs": [
    {
     "data": {
      "text/plain": [
       "0.5551413065762416"
      ]
     },
     "execution_count": 37,
     "metadata": {},
     "output_type": "execute_result"
    }
   ],
   "source": [
    "r2(y_test, treesResult[0])"
   ]
  },
  {
   "cell_type": "code",
   "execution_count": 38,
   "id": "a11a1a44",
   "metadata": {},
   "outputs": [
    {
     "data": {
      "image/png": "[encoded data removed]",
      "text/plain": [
       "<Figure size 432x288 with 1 Axes>"
      ]
     },
     "metadata": {
      "needs_background": "light"
     },
     "output_type": "display_data"
    }
   ],
   "source": [
    "plt.plot([i+1 for i in range(10)],[treesResult[1][i+1] for i in range(10)])\n",
    "plt.xlabel = 'Trees'\n",
    "plt.ylabel = 'r2Score'\n",
    "plt.title = 'r2 v/s Trees'\n",
    "plt.show()"
   ]
  },
  {
   "cell_type": "code",
   "execution_count": 39,
   "id": "729a005f",
   "metadata": {},
   "outputs": [
    {
     "data": {
      "text/plain": [
       "<matplotlib.collections.PathCollection at 0x2b1a02ee5b0>"
      ]
     },
     "execution_count": 39,
     "metadata": {},
     "output_type": "execute_result"
    },
    {
     "data": {
      "image/png": "[encoded data removed]",
      "text/plain": [
       "<Figure size 432x288 with 1 Axes>"
      ]
     },
     "metadata": {
      "needs_background": "light"
     },
     "output_type": "display_data"
    }
   ],
   "source": [
    "plt.scatter(treesResult[0], y_test)"
   ]
  },
  {
   "cell_type": "code",
   "execution_count": 40,
   "id": "ac8c23d1",
   "metadata": {},
   "outputs": [],
   "source": [
    "maxDepth = [10]\n",
    "r2Errors = []\n",
    "for depth in maxDepth:\n",
    "    tree = decisionTreeRegressor(depth,10)\n",
    "    r2Errors.append(bagging(tree, X_train, y_train, X_test, y_test)[2])"
   ]
  },
  {
   "cell_type": "code",
   "execution_count": 41,
   "id": "3e3cea2f",
   "metadata": {},
   "outputs": [
    {
     "data": {
      "text/plain": [
       "[<matplotlib.lines.Line2D at 0x2b1a036a430>]"
      ]
     },
     "execution_count": 41,
     "metadata": {},
     "output_type": "execute_result"
    },
    {
     "data": {
      "image/png": "[encoded data removed]",
      "text/plain": [
       "<Figure size 432x288 with 1 Axes>"
      ]
     },
     "metadata": {
      "needs_background": "light"
     },
     "output_type": "display_data"
    }
   ],
   "source": [
    "plt.plot(maxDepth, r2Errors)"
   ]
  },
  {
   "cell_type": "code",
   "execution_count": 42,
   "id": "ed8b7041",
   "metadata": {},
   "outputs": [
    {
     "data": {
      "text/plain": [
       "<matplotlib.collections.PathCollection at 0x2b1a03c4d90>"
      ]
     },
     "execution_count": 42,
     "metadata": {},
     "output_type": "execute_result"
    },
    {
     "data": {
      "image/png": "[encoded data removed]",
      "text/plain": [
       "<Figure size 432x288 with 1 Axes>"
      ]
     },
     "metadata": {
      "needs_background": "light"
     },
     "output_type": "display_data"
    }
   ],
   "source": [
    "plt.scatter(y , bagging(tree, X, y, X, y)[0])"
   ]
  },
  {
   "cell_type": "code",
   "execution_count": 43,
   "id": "cd7881a9",
   "metadata": {},
   "outputs": [],
   "source": [
    "from sklearn.ensemble import RandomForestRegressor"
   ]
  },
  {
   "cell_type": "code",
   "execution_count": 44,
   "id": "bf960af6",
   "metadata": {},
   "outputs": [],
   "source": [
    "rfc = RandomForestRegressor(n_estimators=10)"
   ]
  },
  {
   "cell_type": "code",
   "execution_count": 45,
   "id": "0e433689",
   "metadata": {},
   "outputs": [
    {
     "data": {
      "text/plain": [
       "RandomForestRegressor(n_estimators=10)"
      ]
     },
     "execution_count": 45,
     "metadata": {},
     "output_type": "execute_result"
    }
   ],
   "source": [
    "rfc.fit(X_train,y_train)"
   ]
  },
  {
   "cell_type": "code",
   "execution_count": 46,
   "id": "7e598431",
   "metadata": {},
   "outputs": [],
   "source": [
    "y_pred = rfc.predict(X_test)"
   ]
  },
  {
   "cell_type": "code",
   "execution_count": 47,
   "id": "9a3dd21f",
   "metadata": {},
   "outputs": [
    {
     "name": "stdout",
     "output_type": "stream",
     "text": [
      "Mean Squared Error: 819456718210.4388\n"
     ]
    }
   ],
   "source": [
    "print(\"Mean Squared Error:\",mse(y_test, y_pred))"
   ]
  },
  {
   "cell_type": "code",
   "execution_count": 48,
   "id": "faf78a1d",
   "metadata": {},
   "outputs": [
    {
     "name": "stdout",
     "output_type": "stream",
     "text": [
      "Mean Absolute Error: 700954.5859872611\n"
     ]
    }
   ],
   "source": [
    "print(\"Mean Absolute Error:\",mae(y_test, y_pred))"
   ]
  },
  {
   "cell_type": "code",
   "execution_count": 49,
   "id": "5483bf9b",
   "metadata": {},
   "outputs": [],
   "source": [
    "from sklearn.ensemble import AdaBoostRegressor"
   ]
  },
  {
   "cell_type": "code",
   "execution_count": 50,
   "id": "1124f951",
   "metadata": {},
   "outputs": [],
   "source": [
    "abr = AdaBoostRegressor(n_estimators=10)"
   ]
  },
  {
   "cell_type": "code",
   "execution_count": 51,
   "id": "122ad096",
   "metadata": {},
   "outputs": [
    {
     "data": {
      "text/plain": [
       "AdaBoostRegressor(n_estimators=10)"
      ]
     },
     "execution_count": 51,
     "metadata": {},
     "output_type": "execute_result"
    }
   ],
   "source": [
    "abr.fit(X_train,y_train)"
   ]
  },
  {
   "cell_type": "code",
   "execution_count": 52,
   "id": "ee3f4e45",
   "metadata": {},
   "outputs": [],
   "source": [
    "y_pred = abr.predict(X_test)"
   ]
  },
  {
   "cell_type": "code",
   "execution_count": 53,
   "id": "19661c9d",
   "metadata": {},
   "outputs": [
    {
     "name": "stdout",
     "output_type": "stream",
     "text": [
      "Mean Squared Error: 1039310215326.4656\n"
     ]
    }
   ],
   "source": [
    "print(\"Mean Squared Error:\",mse(y_test, y_pred))"
   ]
  },
  {
   "cell_type": "code",
   "execution_count": 54,
   "id": "6112f0ce",
   "metadata": {},
   "outputs": [
    {
     "name": "stdout",
     "output_type": "stream",
     "text": [
      "Mean Absolute Error: 779431.7570854377\n"
     ]
    }
   ],
   "source": [
    "print(\"Mean Absolute Error:\",mae(y_test, y_pred))"
   ]
  },
  {
   "cell_type": "code",
   "execution_count": 55,
   "id": "06312bae",
   "metadata": {},
   "outputs": [],
   "source": [
    "## Question 2"
   ]
  },
  {
   "cell_type": "code",
   "execution_count": 56,
   "id": "9589b851",
   "metadata": {},
   "outputs": [],
   "source": [
    "df = pd.read_csv('Breast_cancer_data.csv')"
   ]
  },
  {
   "cell_type": "code",
   "execution_count": 57,
   "id": "586b77fc",
   "metadata": {},
   "outputs": [
    {
     "data": {
      "text/html": [
       "<div>\n",
       "<style scoped>\n",
       "    .dataframe tbody tr th:only-of-type {\n",
       "        vertical-align: middle;\n",
       "    }\n",
       "\n",
       "    .dataframe tbody tr th {\n",
       "        vertical-align: top;\n",
       "    }\n",
       "\n",
       "    .dataframe thead th {\n",
       "        text-align: right;\n",
       "    }\n",
       "</style>\n",
       "<table border=\"1\" class=\"dataframe\">\n",
       "  <thead>\n",
       "    <tr style=\"text-align: right;\">\n",
       "      <th></th>\n",
       "      <th>mean_radius</th>\n",
       "      <th>mean_texture</th>\n",
       "      <th>mean_perimeter</th>\n",
       "      <th>mean_area</th>\n",
       "      <th>mean_smoothness</th>\n",
       "      <th>diagnosis</th>\n",
       "    </tr>\n",
       "  </thead>\n",
       "  <tbody>\n",
       "    <tr>\n",
       "      <th>0</th>\n",
       "      <td>17.99</td>\n",
       "      <td>10.38</td>\n",
       "      <td>122.80</td>\n",
       "      <td>1001.0</td>\n",
       "      <td>0.11840</td>\n",
       "      <td>0</td>\n",
       "    </tr>\n",
       "    <tr>\n",
       "      <th>1</th>\n",
       "      <td>20.57</td>\n",
       "      <td>17.77</td>\n",
       "      <td>132.90</td>\n",
       "      <td>1326.0</td>\n",
       "      <td>0.08474</td>\n",
       "      <td>0</td>\n",
       "    </tr>\n",
       "    <tr>\n",
       "      <th>2</th>\n",
       "      <td>19.69</td>\n",
       "      <td>21.25</td>\n",
       "      <td>130.00</td>\n",
       "      <td>1203.0</td>\n",
       "      <td>0.10960</td>\n",
       "      <td>0</td>\n",
       "    </tr>\n",
       "    <tr>\n",
       "      <th>3</th>\n",
       "      <td>11.42</td>\n",
       "      <td>20.38</td>\n",
       "      <td>77.58</td>\n",
       "      <td>386.1</td>\n",
       "      <td>0.14250</td>\n",
       "      <td>0</td>\n",
       "    </tr>\n",
       "    <tr>\n",
       "      <th>4</th>\n",
       "      <td>20.29</td>\n",
       "      <td>14.34</td>\n",
       "      <td>135.10</td>\n",
       "      <td>1297.0</td>\n",
       "      <td>0.10030</td>\n",
       "      <td>0</td>\n",
       "    </tr>\n",
       "  </tbody>\n",
       "</table>\n",
       "</div>"
      ],
      "text/plain": [
       "   mean_radius  mean_texture  mean_perimeter  mean_area  mean_smoothness  \\\n",
       "0        17.99         10.38          122.80     1001.0          0.11840   \n",
       "1        20.57         17.77          132.90     1326.0          0.08474   \n",
       "2        19.69         21.25          130.00     1203.0          0.10960   \n",
       "3        11.42         20.38           77.58      386.1          0.14250   \n",
       "4        20.29         14.34          135.10     1297.0          0.10030   \n",
       "\n",
       "   diagnosis  \n",
       "0          0  \n",
       "1          0  \n",
       "2          0  \n",
       "3          0  \n",
       "4          0  "
      ]
     },
     "execution_count": 57,
     "metadata": {},
     "output_type": "execute_result"
    }
   ],
   "source": [
    "df.head()"
   ]
  },
  {
   "cell_type": "code",
   "execution_count": 58,
   "id": "f40b4657",
   "metadata": {},
   "outputs": [
    {
     "data": {
      "text/html": [
       "<div>\n",
       "<style scoped>\n",
       "    .dataframe tbody tr th:only-of-type {\n",
       "        vertical-align: middle;\n",
       "    }\n",
       "\n",
       "    .dataframe tbody tr th {\n",
       "        vertical-align: top;\n",
       "    }\n",
       "\n",
       "    .dataframe thead th {\n",
       "        text-align: right;\n",
       "    }\n",
       "</style>\n",
       "<table border=\"1\" class=\"dataframe\">\n",
       "  <thead>\n",
       "    <tr style=\"text-align: right;\">\n",
       "      <th></th>\n",
       "      <th>mean_radius</th>\n",
       "      <th>mean_texture</th>\n",
       "      <th>mean_perimeter</th>\n",
       "      <th>mean_area</th>\n",
       "      <th>mean_smoothness</th>\n",
       "      <th>diagnosis</th>\n",
       "    </tr>\n",
       "  </thead>\n",
       "  <tbody>\n",
       "    <tr>\n",
       "      <th>count</th>\n",
       "      <td>569.000000</td>\n",
       "      <td>569.000000</td>\n",
       "      <td>569.000000</td>\n",
       "      <td>569.000000</td>\n",
       "      <td>569.000000</td>\n",
       "      <td>569.000000</td>\n",
       "    </tr>\n",
       "    <tr>\n",
       "      <th>mean</th>\n",
       "      <td>14.127292</td>\n",
       "      <td>19.289649</td>\n",
       "      <td>91.969033</td>\n",
       "      <td>654.889104</td>\n",
       "      <td>0.096360</td>\n",
       "      <td>0.627417</td>\n",
       "    </tr>\n",
       "    <tr>\n",
       "      <th>std</th>\n",
       "      <td>3.524049</td>\n",
       "      <td>4.301036</td>\n",
       "      <td>24.298981</td>\n",
       "      <td>351.914129</td>\n",
       "      <td>0.014064</td>\n",
       "      <td>0.483918</td>\n",
       "    </tr>\n",
       "    <tr>\n",
       "      <th>min</th>\n",
       "      <td>6.981000</td>\n",
       "      <td>9.710000</td>\n",
       "      <td>43.790000</td>\n",
       "      <td>143.500000</td>\n",
       "      <td>0.052630</td>\n",
       "      <td>0.000000</td>\n",
       "    </tr>\n",
       "    <tr>\n",
       "      <th>25%</th>\n",
       "      <td>11.700000</td>\n",
       "      <td>16.170000</td>\n",
       "      <td>75.170000</td>\n",
       "      <td>420.300000</td>\n",
       "      <td>0.086370</td>\n",
       "      <td>0.000000</td>\n",
       "    </tr>\n",
       "    <tr>\n",
       "      <th>50%</th>\n",
       "      <td>13.370000</td>\n",
       "      <td>18.840000</td>\n",
       "      <td>86.240000</td>\n",
       "      <td>551.100000</td>\n",
       "      <td>0.095870</td>\n",
       "      <td>1.000000</td>\n",
       "    </tr>\n",
       "    <tr>\n",
       "      <th>75%</th>\n",
       "      <td>15.780000</td>\n",
       "      <td>21.800000</td>\n",
       "      <td>104.100000</td>\n",
       "      <td>782.700000</td>\n",
       "      <td>0.105300</td>\n",
       "      <td>1.000000</td>\n",
       "    </tr>\n",
       "    <tr>\n",
       "      <th>max</th>\n",
       "      <td>28.110000</td>\n",
       "      <td>39.280000</td>\n",
       "      <td>188.500000</td>\n",
       "      <td>2501.000000</td>\n",
       "      <td>0.163400</td>\n",
       "      <td>1.000000</td>\n",
       "    </tr>\n",
       "  </tbody>\n",
       "</table>\n",
       "</div>"
      ],
      "text/plain": [
       "       mean_radius  mean_texture  mean_perimeter    mean_area  \\\n",
       "count   569.000000    569.000000      569.000000   569.000000   \n",
       "mean     14.127292     19.289649       91.969033   654.889104   \n",
       "std       3.524049      4.301036       24.298981   351.914129   \n",
       "min       6.981000      9.710000       43.790000   143.500000   \n",
       "25%      11.700000     16.170000       75.170000   420.300000   \n",
       "50%      13.370000     18.840000       86.240000   551.100000   \n",
       "75%      15.780000     21.800000      104.100000   782.700000   \n",
       "max      28.110000     39.280000      188.500000  2501.000000   \n",
       "\n",
       "       mean_smoothness   diagnosis  \n",
       "count       569.000000  569.000000  \n",
       "mean          0.096360    0.627417  \n",
       "std           0.014064    0.483918  \n",
       "min           0.052630    0.000000  \n",
       "25%           0.086370    0.000000  \n",
       "50%           0.095870    1.000000  \n",
       "75%           0.105300    1.000000  \n",
       "max           0.163400    1.000000  "
      ]
     },
     "execution_count": 58,
     "metadata": {},
     "output_type": "execute_result"
    }
   ],
   "source": [
    "df.describe()"
   ]
  },
  {
   "cell_type": "code",
   "execution_count": 59,
   "id": "15671425",
   "metadata": {},
   "outputs": [
    {
     "name": "stdout",
     "output_type": "stream",
     "text": [
      "<class 'pandas.core.frame.DataFrame'>\n",
      "RangeIndex: 569 entries, 0 to 568\n",
      "Data columns (total 6 columns):\n",
      " #   Column           Non-Null Count  Dtype  \n",
      "---  ------           --------------  -----  \n",
      " 0   mean_radius      569 non-null    float64\n",
      " 1   mean_texture     569 non-null    float64\n",
      " 2   mean_perimeter   569 non-null    float64\n",
      " 3   mean_area        569 non-null    float64\n",
      " 4   mean_smoothness  569 non-null    float64\n",
      " 5   diagnosis        569 non-null    int64  \n",
      "dtypes: float64(5), int64(1)\n",
      "memory usage: 26.8 KB\n"
     ]
    }
   ],
   "source": [
    "df.info()"
   ]
  },
  {
   "cell_type": "code",
   "execution_count": 143,
   "id": "ce27e420",
   "metadata": {},
   "outputs": [],
   "source": []
  },
  {
   "cell_type": "code",
   "execution_count": 152,
   "id": "a0abbc16",
   "metadata": {},
   "outputs": [],
   "source": [
    "class decisionTreeClassifier:\n",
    "    def __init__(self, max_depth,th = 0.025):\n",
    "        self.maxDepth = max_depth\n",
    "        if th <= 0.025:\n",
    "            self.entropyThreshold = 0.025\n",
    "        else:\n",
    "            self.entropyThreshold = th\n",
    "        self.treeNode = {}\n",
    "        self.classes = 2\n",
    "        \n",
    "    def entropy(self, l):\n",
    "        dic = {}\n",
    "        for i in l:\n",
    "            if i not in dic:\n",
    "                dic[i] = 1\n",
    "            else:\n",
    "                dic[i] += 1\n",
    "        sum = 0\n",
    "        for i in dic:\n",
    "            p = dic[i] / len(l)\n",
    "            sum -= p*math.log2(p)\n",
    "        return sum\n",
    "\n",
    "    def information_gain(self, entropy1, x1, y1, threshold=1):\n",
    "        split1 = y1[x1 >= threshold].copy()\n",
    "        split2 = y1[x1 < threshold].copy()\n",
    "        entr1 = self.entropy(split1)\n",
    "        entr2 = self.entropy(split2)\n",
    "        n1 = len(split1)\n",
    "        n2 = len(split2)\n",
    "        n = len(y1)\n",
    "        info_gain = entropy1 - (n1/n)*entr1 - (n2/n)*entr2\n",
    "        return info_gain\n",
    "\n",
    "    def best_split(self, x1, y1, index):\n",
    "        sorted_array = np.sort(x1)\n",
    "        avg = np.array([sorted_array[i]+sorted_array[i+1] for i in range(len(y1)-1)])\n",
    "        avg = avg/2\n",
    "        thresh_best = 0\n",
    "        inf = -100\n",
    "        for t in avg:\n",
    "            temp = self.information_gain(self.entropy(y1), x1, y1, t)\n",
    "            if temp > inf:\n",
    "                thresh_best = t\n",
    "                inf = temp\n",
    "#         print(\"Index number:\", index)\n",
    "#         print(\"Threshold ==>\", thresh_best, \"----\", \"Information Gain==>\", inf)\n",
    "        return inf,thresh_best\n",
    "\n",
    "    def maximumFreq(self,array):\n",
    "        dictionary = {}\n",
    "        for i in array:\n",
    "            if i not in dictionary:\n",
    "                dictionary[i] = 1\n",
    "            else:\n",
    "                dictionary[i]+=1\n",
    "        count = -1\n",
    "        ans = -1\n",
    "        for j in dictionary:\n",
    "            if dictionary[j] > count:\n",
    "                count = dictionary[j]\n",
    "                ans = j\n",
    "        return ans\n",
    "    \n",
    "    def fit(self, x, y,index=0,length=0):\n",
    "        if index == 0:\n",
    "            self.treeNode = {}\n",
    "        if self.entropy(y) <= self.entropyThreshold:\n",
    "            freq = self.maximumFreq(y)\n",
    "            if freq == -1:\n",
    "                self.treeNode[index] = 'C:'+str(np.random.randint(0,self.classes))\n",
    "            else:\n",
    "                self.treeNode[index] = 'C:'+str(freq)\n",
    "            return\n",
    "        if length >= self.maxDepth:\n",
    "            self.treeNode[index] = 'C:'+str(self.maximumFreq(y))\n",
    "            return\n",
    "        inf = -100\n",
    "        split = -1\n",
    "        valsplit  = float(\"inf\")\n",
    "        for i in range(x.shape[1]):\n",
    "            temp , thresh = self.best_split(x[:,i], y , i)\n",
    "            if temp > inf:\n",
    "                inf = temp\n",
    "                split = i\n",
    "                valsplit = thresh\n",
    "        if split == -1:\n",
    "            self.treeNode[index] = 'C:'+str(self.maximumFreq(y))\n",
    "            return\n",
    "        self.treeNode[index] = [split, valsplit]\n",
    "        length+=1\n",
    "        x_ = x.copy()\n",
    "        y_ = y.copy()\n",
    "        x_left = x_[x_[:, split] < valsplit]\n",
    "        x_right = x_[x_[:, split] >= valsplit]\n",
    "        y_left = y_[x_[:, split] < valsplit]\n",
    "        y_right = y_[x_[:, split] >= valsplit]\n",
    "        lengthcopy = length\n",
    "        self.fit(x_left, y_left,2*index+1,lengthcopy)\n",
    "        self.fit(x_right, y_right,2*index+2,lengthcopy)\n",
    "\n",
    "    def predict_one(self, x):\n",
    "      i = 0\n",
    "      while type(self.treeNode[i]) != str:\n",
    "        if x[self.treeNode[i][0]] < self.treeNode[i][1] :\n",
    "          i = 2*i + 1\n",
    "        elif x[self.treeNode[i][0]] >= self.treeNode[i][1] :\n",
    "          i = 2*i + 2\n",
    "      return float(self.treeNode[i].split(\":\")[1])\n",
    "        \n",
    "    def predict(self, x_):\n",
    "      y__ = []\n",
    "      for row in x_:\n",
    "        y__.append(self.predict_one(row))\n",
    "      return np.array(y__)\n",
    "        "
   ]
  },
  {
   "cell_type": "code",
   "execution_count": 153,
   "id": "c8aaeb31",
   "metadata": {},
   "outputs": [],
   "source": [
    "X = np.array(df.iloc[:,0:5])\n",
    "y = np.array(df['diagnosis'])"
   ]
  },
  {
   "cell_type": "code",
   "execution_count": 154,
   "id": "2e967538",
   "metadata": {},
   "outputs": [],
   "source": [
    "from sklearn.metrics import accuracy_score"
   ]
  },
  {
   "cell_type": "code",
   "execution_count": 155,
   "id": "c38cba4e",
   "metadata": {
    "scrolled": true
   },
   "outputs": [
    {
     "name": "stdout",
     "output_type": "stream",
     "text": [
      "(455, 5) (455,)\n",
      "(455, 5) (455,)\n",
      "(455, 5) (455,)\n",
      "(455, 5) (455,)\n",
      "(455, 5) (455,)\n",
      "(317, 5) (317,)\n",
      "(317, 5) (317,)\n",
      "(317, 5) (317,)\n",
      "(317, 5) (317,)\n",
      "(317, 5) (317,)\n",
      "(211, 5) (211,)\n",
      "(211, 5) (211,)\n",
      "(211, 5) (211,)\n",
      "(211, 5) (211,)\n",
      "(211, 5) (211,)\n",
      "(181, 5) (181,)\n",
      "(181, 5) (181,)\n",
      "(181, 5) (181,)\n",
      "(181, 5) (181,)\n",
      "(181, 5) (181,)\n",
      "(8, 5) (8,)\n",
      "(8, 5) (8,)\n",
      "(8, 5) (8,)\n",
      "(8, 5) (8,)\n",
      "(8, 5) (8,)\n",
      "(30, 5) (30,)\n",
      "(30, 5) (30,)\n",
      "(30, 5) (30,)\n",
      "(30, 5) (30,)\n",
      "(30, 5) (30,)\n",
      "(20, 5) (20,)\n",
      "(20, 5) (20,)\n",
      "(20, 5) (20,)\n",
      "(20, 5) (20,)\n",
      "(20, 5) (20,)\n",
      "(106, 5) (106,)\n",
      "(106, 5) (106,)\n",
      "(106, 5) (106,)\n",
      "(106, 5) (106,)\n",
      "(106, 5) (106,)\n",
      "(57, 5) (57,)\n",
      "(57, 5) (57,)\n",
      "(57, 5) (57,)\n",
      "(57, 5) (57,)\n",
      "(57, 5) (57,)\n",
      "(18, 5) (18,)\n",
      "(18, 5) (18,)\n",
      "(18, 5) (18,)\n",
      "(18, 5) (18,)\n",
      "(18, 5) (18,)\n",
      "(49, 5) (49,)\n",
      "(49, 5) (49,)\n",
      "(49, 5) (49,)\n",
      "(49, 5) (49,)\n",
      "(49, 5) (49,)\n",
      "(19, 5) (19,)\n",
      "(19, 5) (19,)\n",
      "(19, 5) (19,)\n",
      "(19, 5) (19,)\n",
      "(19, 5) (19,)\n",
      "(30, 5) (30,)\n",
      "(30, 5) (30,)\n",
      "(30, 5) (30,)\n",
      "(30, 5) (30,)\n",
      "(30, 5) (30,)\n",
      "(138, 5) (138,)\n",
      "(138, 5) (138,)\n",
      "(138, 5) (138,)\n",
      "(138, 5) (138,)\n",
      "(138, 5) (138,)\n",
      "(15, 5) (15,)\n",
      "(15, 5) (15,)\n",
      "(15, 5) (15,)\n",
      "(15, 5) (15,)\n",
      "(15, 5) (15,)\n",
      "(10, 5) (10,)\n",
      "(10, 5) (10,)\n",
      "(10, 5) (10,)\n",
      "(10, 5) (10,)\n",
      "(10, 5) (10,)\n",
      "(8, 5) (8,)\n",
      "(8, 5) (8,)\n",
      "(8, 5) (8,)\n",
      "(8, 5) (8,)\n",
      "(8, 5) (8,)\n",
      "(123, 5) (123,)\n",
      "(123, 5) (123,)\n",
      "(123, 5) (123,)\n",
      "(123, 5) (123,)\n",
      "(123, 5) (123,)\n",
      "(2, 5) (2,)\n",
      "(2, 5) (2,)\n",
      "(2, 5) (2,)\n",
      "(2, 5) (2,)\n",
      "(2, 5) (2,)\n",
      "(121, 5) (121,)\n",
      "(121, 5) (121,)\n",
      "(121, 5) (121,)\n",
      "(121, 5) (121,)\n",
      "(121, 5) (121,)\n",
      "(18, 5) (18,)\n",
      "(18, 5) (18,)\n",
      "(18, 5) (18,)\n",
      "(18, 5) (18,)\n",
      "(18, 5) (18,)\n"
     ]
    }
   ],
   "source": [
    "X_train, X_test, y_train, y_test = tts(X , y , test_size=0.2, random_state=17)\n",
    "tree.fit(X_train, y_train)\n",
    "ypred = tree.predict(X_test)"
   ]
  },
  {
   "cell_type": "code",
   "execution_count": 148,
   "id": "d3bf642d",
   "metadata": {},
   "outputs": [
    {
     "data": {
      "text/plain": [
       "0.9473684210526315"
      ]
     },
     "execution_count": 148,
     "metadata": {},
     "output_type": "execute_result"
    }
   ],
   "source": [
    "accuracy_score(y_test, ypred)"
   ]
  },
  {
   "cell_type": "code",
   "execution_count": 149,
   "id": "74e106aa",
   "metadata": {},
   "outputs": [],
   "source": [
    "ypredfull = tree.predict(X)"
   ]
  },
  {
   "cell_type": "code",
   "execution_count": 150,
   "id": "91a7514b",
   "metadata": {},
   "outputs": [
    {
     "data": {
      "text/plain": [
       "0.961335676625659"
      ]
     },
     "execution_count": 150,
     "metadata": {},
     "output_type": "execute_result"
    }
   ],
   "source": [
    "accuracy_score(y,ypredfull)"
   ]
  },
  {
   "cell_type": "code",
   "execution_count": null,
   "id": "bb607baf",
   "metadata": {},
   "outputs": [],
   "source": []
  },
  {
   "cell_type": "code",
   "execution_count": null,
   "id": "b2c15090",
   "metadata": {},
   "outputs": [],
   "source": []
  }
 ],
 "metadata": {
  "interpreter": {
   "hash": "67caa6b45e8ad38a4261f7260c6b9d2bd98b05a0013f232d138adf9c14d1613a"
  },
  "kernelspec": {
   "display_name": "Python 3 (ipykernel)",
   "language": "python",
   "name": "python3"
  },
  "language_info": {
   "codemirror_mode": {
    "name": "ipython",
    "version": 3
   },
   "file_extension": ".py",
   "mimetype": "text/x-python",
   "name": "python",
   "nbconvert_exporter": "python",
   "pygments_lexer": "ipython3",
   "version": "3.9.7"
  }
 },
 "nbformat": 4,
 "nbformat_minor": 5
}
