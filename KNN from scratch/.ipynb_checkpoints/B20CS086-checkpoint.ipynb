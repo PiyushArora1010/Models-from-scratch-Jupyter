{
 "cells": [
  {
   "cell_type": "code",
   "execution_count": 9,
   "metadata": {},
   "outputs": [],
   "source": [
    "import pandas as pd\n",
    "import numpy as np\n",
    "import matplotlib.pyplot as plt\n",
    "import seaborn as sns\n",
    "from tqdm import tqdm\n",
    "from sklearn import *"
   ]
  },
  {
   "cell_type": "code",
   "execution_count": 10,
   "metadata": {},
   "outputs": [],
   "source": [
    "class kmeans:\n",
    "    def __init__(self,dis='euclidean',clusters = 2):\n",
    "        self.clusters = clusters\n",
    "        self.dis = dis\n",
    "        self.centroids = None\n",
    "        self.vals = {}\n",
    "    def distance(self,a,b):\n",
    "        if self.dis == 'euclidean':\n",
    "            return np.sum((a-b)**2)**0.5\n",
    "        if self.dis == 'absolute':\n",
    "            return np.sum(abs(a-b))\n",
    "    def adjustCentroids(self,centroids, X,vals):\n",
    "        y = np.array([vals[i] for i in vals])\n",
    "        centers = centroids.shape[0]\n",
    "        for i in range(centers):\n",
    "            centroids[i] = np.mean(X[y==i].copy())\n",
    "        return centroids\n",
    "    def fit(self,X, iterations = 100):\n",
    "        self.centroids = np.zeros((self.clusters,X.shape[1]))\n",
    "        for i in range(self.clusters):\n",
    "            self.centroids[i] = X[np.random.randint(0,X.shape[0])]\n",
    "        for it in tqdm(range(iterations)):\n",
    "            for ix,row in enumerate(X):\n",
    "                center = -1\n",
    "                dist = float(\"inf\")\n",
    "                for cx,centr in enumerate(self.centroids):\n",
    "                    if self.distance(row,centr) < dist:\n",
    "                        dist = self.distance(row,centr)\n",
    "                        self.vals[ix] = cx\n",
    "            self.centroids = self.adjustCentroids(self.centroids,X,self.vals)\n",
    "                "
   ]
  },
  {
   "cell_type": "code",
   "execution_count": 11,
   "metadata": {},
   "outputs": [],
   "source": [
    "k = kmeans('euclidean',3)"
   ]
  },
  {
   "cell_type": "code",
   "execution_count": 12,
   "metadata": {},
   "outputs": [],
   "source": [
    "iris = datasets.load_iris()\n",
    "X = iris.data[:, :2] \n",
    "y = iris.target"
   ]
  },
  {
   "cell_type": "code",
   "execution_count": 13,
   "metadata": {},
   "outputs": [
    {
     "name": "stdout",
     "output_type": "stream",
     "text": [
      "here1\n",
      "here2\n"
     ]
    },
    {
     "name": "stderr",
     "output_type": "stream",
     "text": [
      "  0%|                                                                                          | 0/100 [00:00<?, ?it/s]\n"
     ]
    },
    {
     "ename": "TypeError",
     "evalue": "'int' object is not iterable",
     "output_type": "error",
     "traceback": [
      "\u001b[1;31m---------------------------------------------------------------------------\u001b[0m",
      "\u001b[1;31mTypeError\u001b[0m                                 Traceback (most recent call last)",
      "Input \u001b[1;32mIn [13]\u001b[0m, in \u001b[0;36m<module>\u001b[1;34m\u001b[0m\n\u001b[1;32m----> 1\u001b[0m \u001b[43mk\u001b[49m\u001b[38;5;241;43m.\u001b[39;49m\u001b[43mfit\u001b[49m\u001b[43m(\u001b[49m\u001b[43mX\u001b[49m\u001b[43m)\u001b[49m\n",
      "Input \u001b[1;32mIn [10]\u001b[0m, in \u001b[0;36mkmeans.fit\u001b[1;34m(self, X, iterations)\u001b[0m\n\u001b[0;32m     30\u001b[0m             dist \u001b[38;5;241m=\u001b[39m \u001b[38;5;28mself\u001b[39m\u001b[38;5;241m.\u001b[39mdistance(row,centr)\n\u001b[0;32m     31\u001b[0m             \u001b[38;5;28mself\u001b[39m\u001b[38;5;241m.\u001b[39mvals[ix] \u001b[38;5;241m=\u001b[39m cx\n\u001b[1;32m---> 32\u001b[0m \u001b[38;5;28mself\u001b[39m\u001b[38;5;241m.\u001b[39mcentroids \u001b[38;5;241m=\u001b[39m \u001b[38;5;28;43mself\u001b[39;49m\u001b[38;5;241;43m.\u001b[39;49m\u001b[43madjustCentroids\u001b[49m\u001b[43m(\u001b[49m\u001b[38;5;28;43mself\u001b[39;49m\u001b[38;5;241;43m.\u001b[39;49m\u001b[43mcentroids\u001b[49m\u001b[43m,\u001b[49m\u001b[43mX\u001b[49m\u001b[43m,\u001b[49m\u001b[38;5;28;43mself\u001b[39;49m\u001b[38;5;241;43m.\u001b[39;49m\u001b[43mvals\u001b[49m\u001b[43m)\u001b[49m\n",
      "Input \u001b[1;32mIn [10]\u001b[0m, in \u001b[0;36mkmeans.adjustCentroids\u001b[1;34m(self, centroids, X, vals)\u001b[0m\n\u001b[0;32m     13\u001b[0m y \u001b[38;5;241m=\u001b[39m np\u001b[38;5;241m.\u001b[39marray([vals[i] \u001b[38;5;28;01mfor\u001b[39;00m i \u001b[38;5;129;01min\u001b[39;00m vals])\n\u001b[0;32m     14\u001b[0m centers \u001b[38;5;241m=\u001b[39m centroids\u001b[38;5;241m.\u001b[39mshape[\u001b[38;5;241m0\u001b[39m]\n\u001b[1;32m---> 15\u001b[0m \u001b[38;5;28;01mfor\u001b[39;00m i \u001b[38;5;129;01min\u001b[39;00m centers:\n\u001b[0;32m     16\u001b[0m     centroids[i] \u001b[38;5;241m=\u001b[39m np\u001b[38;5;241m.\u001b[39mmean(X[y\u001b[38;5;241m==\u001b[39mi]\u001b[38;5;241m.\u001b[39mcopy())\n\u001b[0;32m     17\u001b[0m \u001b[38;5;28;01mreturn\u001b[39;00m centroids\n",
      "\u001b[1;31mTypeError\u001b[0m: 'int' object is not iterable"
     ]
    }
   ],
   "source": [
    "k.fit(X)"
   ]
  },
  {
   "cell_type": "code",
   "execution_count": null,
   "metadata": {},
   "outputs": [],
   "source": []
  },
  {
   "cell_type": "code",
   "execution_count": null,
   "metadata": {},
   "outputs": [],
   "source": []
  }
 ],
 "metadata": {
  "interpreter": {
   "hash": "67caa6b45e8ad38a4261f7260c6b9d2bd98b05a0013f232d138adf9c14d1613a"
  },
  "kernelspec": {
   "display_name": "Python 3 (ipykernel)",
   "language": "python",
   "name": "python3"
  },
  "language_info": {
   "codemirror_mode": {
    "name": "ipython",
    "version": 3
   },
   "file_extension": ".py",
   "mimetype": "text/x-python",
   "name": "python",
   "nbconvert_exporter": "python",
   "pygments_lexer": "ipython3",
   "version": "3.9.7"
  }
 },
 "nbformat": 4,
 "nbformat_minor": 2
}
