{
  "cells": [
    {
      "cell_type": "markdown",
      "source": [
        "***Importing Necessary Modules***"
      ],
      "metadata": {
        "id": "VzZxmfEkvqt3"
      },
      "id": "VzZxmfEkvqt3"
    },
    {
      "cell_type": "code",
      "execution_count": 1,
      "id": "b9099112",
      "metadata": {
        "id": "b9099112"
      },
      "outputs": [],
      "source": [
        "import pandas as pd\n",
        "import numpy as np\n",
        "import matplotlib.pyplot as plt\n",
        "import seaborn as sns\n",
        "from sklearn.model_selection import train_test_split as tts\n",
        "from sklearn.model_selection import cross_val_score as cvs\n",
        "from sklearn.tree import DecisionTreeClassifier\n",
        "from sklearn.naive_bayes import GaussianNB , MultinomialNB\n",
        "from sklearn.metrics import accuracy_score, classification_report\n",
        "from sklearn import *\n",
        "from sklearn.model_selection import KFold as kf\n",
        "import warnings\n",
        "warnings.filterwarnings(\"ignore\")\n",
        "custom_params = {\"axes.spines.right\": False, \"axes.spines.top\": False}\n",
        "sns.set_theme(style=\"darkgrid\", rc=custom_params)"
      ]
    },
    {
      "cell_type": "markdown",
      "source": [
        "***Reading Data***"
      ],
      "metadata": {
        "id": "cRU8p7qTvz3E"
      },
      "id": "cRU8p7qTvz3E"
    },
    {
      "cell_type": "code",
      "execution_count": 2,
      "id": "45f46e10",
      "metadata": {
        "id": "45f46e10"
      },
      "outputs": [],
      "source": [
        "df_ = pd.read_csv('/content/anneal.data')\n",
        "df__ = pd.read_csv('/content/anneal.test')\n",
        "f = open('/content/anneal.names','r')"
      ]
    },
    {
      "cell_type": "markdown",
      "source": [
        "## Question 1"
      ],
      "metadata": {
        "id": "2Z7xP7IFxdMA"
      },
      "id": "2Z7xP7IFxdMA"
    },
    {
      "cell_type": "markdown",
      "source": [
        "### Subpart1"
      ],
      "metadata": {
        "id": "UvZ73r7ixgJD"
      },
      "id": "UvZ73r7ixgJD"
    },
    {
      "cell_type": "markdown",
      "source": [
        "**Data Preprocessing**"
      ],
      "metadata": {
        "id": "pX4u-5FWv6uZ"
      },
      "id": "pX4u-5FWv6uZ"
    },
    {
      "cell_type": "code",
      "execution_count": 3,
      "id": "52c776cf",
      "metadata": {
        "id": "52c776cf"
      },
      "outputs": [],
      "source": [
        "columns = ['1. family','2. product-type','3. steel','4. carbon','5. hardness','6. temper_rolling','7. condition','8. formability','9. strength','10. non-ageing','11. surface-finish','12. surface-quality','13. enamelability','14. bc','15. bf','16. bt','17. bw/me','18. bl','19. m','20. chrom','21. phos','22. cbond','23. marvi','24. exptl','25. ferro','26. corr','27. blue/bright/varn/clean','28. lustre','29. jurofm','30. s','31. p','32. shape','33. thick','34. width','35. len','36. oil','37. bore','38. packing','39. class']"
      ]
    },
    {
      "cell_type": "code",
      "execution_count": 4,
      "id": "44e29c02",
      "metadata": {
        "id": "44e29c02"
      },
      "outputs": [],
      "source": [
        "columns = [i.split('.')[1][1:] for i in columns]"
      ]
    },
    {
      "cell_type": "code",
      "execution_count": 5,
      "id": "c0a64963",
      "metadata": {
        "id": "c0a64963"
      },
      "outputs": [],
      "source": [
        "df_.columns = columns\n",
        "df__.columns = columns"
      ]
    },
    {
      "cell_type": "code",
      "execution_count": 6,
      "id": "564c9e1d",
      "metadata": {
        "id": "564c9e1d"
      },
      "outputs": [],
      "source": [
        "df = pd.concat([df_,df__])"
      ]
    },
    {
      "cell_type": "code",
      "execution_count": 7,
      "id": "768157b8",
      "metadata": {
        "id": "768157b8"
      },
      "outputs": [],
      "source": [
        "df.reset_index(inplace = True, drop=True)"
      ]
    },
    {
      "cell_type": "code",
      "execution_count": 8,
      "id": "5367bc7f",
      "metadata": {
        "colab": {
          "base_uri": "https://localhost:8080/"
        },
        "id": "5367bc7f",
        "outputId": "450667f8-dbf6-424e-d835-29f865495b58"
      },
      "outputs": [
        {
          "output_type": "stream",
          "name": "stdout",
          "text": [
            "Missing Values: \n",
            "family ===> 770\n",
            "product-type ===> 0\n",
            "steel ===> 86\n",
            "carbon ===> 0\n",
            "hardness ===> 0\n",
            "temper_rolling ===> 759\n",
            "condition ===> 303\n",
            "formability ===> 316\n",
            "strength ===> 0\n",
            "non-ageing ===> 791\n",
            "surface-finish ===> 887\n",
            "surface-quality ===> 244\n",
            "enamelability ===> 880\n",
            "bc ===> 895\n",
            "bf ===> 767\n",
            "bt ===> 822\n",
            "bw/me ===> 685\n",
            "bl ===> 747\n",
            "m ===> 896\n",
            "chrom ===> 870\n",
            "phos ===> 889\n",
            "cbond ===> 822\n",
            "marvi ===> 896\n",
            "exptl ===> 894\n",
            "ferro ===> 866\n",
            "corr ===> 896\n",
            "blue/bright/varn/clean ===> 890\n",
            "lustre ===> 845\n",
            "jurofm ===> 896\n",
            "s ===> 896\n",
            "p ===> 896\n",
            "shape ===> 0\n",
            "thick ===> 0\n",
            "width ===> 0\n",
            "len ===> 0\n",
            "oil ===> 832\n",
            "bore ===> 0\n",
            "packing ===> 887\n",
            "class ===> 0\n"
          ]
        }
      ],
      "source": [
        "## Printing Missing Values\n",
        "print('Missing Values: ')\n",
        "droppingColumns = []\n",
        "for ci,column in enumerate(columns):\n",
        "    count = 0\n",
        "    for j in range(len(df)):\n",
        "        if df.iloc[j , ci] == '?':\n",
        "            count += 1\n",
        "    if count >= 240:\n",
        "        droppingColumns.append(column)\n",
        "    print(column, '===>', count)"
      ]
    },
    {
      "cell_type": "code",
      "execution_count": 9,
      "id": "3ad4d34e",
      "metadata": {
        "id": "3ad4d34e"
      },
      "outputs": [],
      "source": [
        "df.drop(droppingColumns, axis = 1, inplace = True)"
      ]
    },
    {
      "cell_type": "code",
      "execution_count": 10,
      "id": "03470482",
      "metadata": {
        "colab": {
          "base_uri": "https://localhost:8080/",
          "height": 206
        },
        "id": "03470482",
        "outputId": "0492d6ec-aba8-4fe5-d6fd-61218b7b645c"
      },
      "outputs": [
        {
          "output_type": "execute_result",
          "data": {
            "text/plain": [
              "  product-type steel  carbon  hardness  strength  shape  thick   width  len  \\\n",
              "0            C     R       0         0         0   COIL  3.200   610.0    0   \n",
              "1            C     R       0         0         0  SHEET  0.700  1300.0  762   \n",
              "2            C     A       0        60         0   COIL  2.801   385.1    0   \n",
              "3            C     A       0        60         0  SHEET  0.801   255.0  269   \n",
              "4            C     A       0        45         0   COIL  1.600   610.0    0   \n",
              "\n",
              "   bore class  \n",
              "0     0     3  \n",
              "1     0     3  \n",
              "2     0     3  \n",
              "3     0     3  \n",
              "4     0     3  "
            ],
            "text/html": [
              "\n",
              "  <div id=\"df-271f4295-15da-4a62-b877-0947487fb13d\">\n",
              "    <div class=\"colab-df-container\">\n",
              "      <div>\n",
              "<style scoped>\n",
              "    .dataframe tbody tr th:only-of-type {\n",
              "        vertical-align: middle;\n",
              "    }\n",
              "\n",
              "    .dataframe tbody tr th {\n",
              "        vertical-align: top;\n",
              "    }\n",
              "\n",
              "    .dataframe thead th {\n",
              "        text-align: right;\n",
              "    }\n",
              "</style>\n",
              "<table border=\"1\" class=\"dataframe\">\n",
              "  <thead>\n",
              "    <tr style=\"text-align: right;\">\n",
              "      <th></th>\n",
              "      <th>product-type</th>\n",
              "      <th>steel</th>\n",
              "      <th>carbon</th>\n",
              "      <th>hardness</th>\n",
              "      <th>strength</th>\n",
              "      <th>shape</th>\n",
              "      <th>thick</th>\n",
              "      <th>width</th>\n",
              "      <th>len</th>\n",
              "      <th>bore</th>\n",
              "      <th>class</th>\n",
              "    </tr>\n",
              "  </thead>\n",
              "  <tbody>\n",
              "    <tr>\n",
              "      <th>0</th>\n",
              "      <td>C</td>\n",
              "      <td>R</td>\n",
              "      <td>0</td>\n",
              "      <td>0</td>\n",
              "      <td>0</td>\n",
              "      <td>COIL</td>\n",
              "      <td>3.200</td>\n",
              "      <td>610.0</td>\n",
              "      <td>0</td>\n",
              "      <td>0</td>\n",
              "      <td>3</td>\n",
              "    </tr>\n",
              "    <tr>\n",
              "      <th>1</th>\n",
              "      <td>C</td>\n",
              "      <td>R</td>\n",
              "      <td>0</td>\n",
              "      <td>0</td>\n",
              "      <td>0</td>\n",
              "      <td>SHEET</td>\n",
              "      <td>0.700</td>\n",
              "      <td>1300.0</td>\n",
              "      <td>762</td>\n",
              "      <td>0</td>\n",
              "      <td>3</td>\n",
              "    </tr>\n",
              "    <tr>\n",
              "      <th>2</th>\n",
              "      <td>C</td>\n",
              "      <td>A</td>\n",
              "      <td>0</td>\n",
              "      <td>60</td>\n",
              "      <td>0</td>\n",
              "      <td>COIL</td>\n",
              "      <td>2.801</td>\n",
              "      <td>385.1</td>\n",
              "      <td>0</td>\n",
              "      <td>0</td>\n",
              "      <td>3</td>\n",
              "    </tr>\n",
              "    <tr>\n",
              "      <th>3</th>\n",
              "      <td>C</td>\n",
              "      <td>A</td>\n",
              "      <td>0</td>\n",
              "      <td>60</td>\n",
              "      <td>0</td>\n",
              "      <td>SHEET</td>\n",
              "      <td>0.801</td>\n",
              "      <td>255.0</td>\n",
              "      <td>269</td>\n",
              "      <td>0</td>\n",
              "      <td>3</td>\n",
              "    </tr>\n",
              "    <tr>\n",
              "      <th>4</th>\n",
              "      <td>C</td>\n",
              "      <td>A</td>\n",
              "      <td>0</td>\n",
              "      <td>45</td>\n",
              "      <td>0</td>\n",
              "      <td>COIL</td>\n",
              "      <td>1.600</td>\n",
              "      <td>610.0</td>\n",
              "      <td>0</td>\n",
              "      <td>0</td>\n",
              "      <td>3</td>\n",
              "    </tr>\n",
              "  </tbody>\n",
              "</table>\n",
              "</div>\n",
              "      <button class=\"colab-df-convert\" onclick=\"convertToInteractive('df-271f4295-15da-4a62-b877-0947487fb13d')\"\n",
              "              title=\"Convert this dataframe to an interactive table.\"\n",
              "              style=\"display:none;\">\n",
              "        \n",
              "  <svg xmlns=\"http://www.w3.org/2000/svg\" height=\"24px\"viewBox=\"0 0 24 24\"\n",
              "       width=\"24px\">\n",
              "    <path d=\"M0 0h24v24H0V0z\" fill=\"none\"/>\n",
              "    <path d=\"M18.56 5.44l.94 2.06.94-2.06 2.06-.94-2.06-.94-.94-2.06-.94 2.06-2.06.94zm-11 1L8.5 8.5l.94-2.06 2.06-.94-2.06-.94L8.5 2.5l-.94 2.06-2.06.94zm10 10l.94 2.06.94-2.06 2.06-.94-2.06-.94-.94-2.06-.94 2.06-2.06.94z\"/><path d=\"M17.41 7.96l-1.37-1.37c-.4-.4-.92-.59-1.43-.59-.52 0-1.04.2-1.43.59L10.3 9.45l-7.72 7.72c-.78.78-.78 2.05 0 2.83L4 21.41c.39.39.9.59 1.41.59.51 0 1.02-.2 1.41-.59l7.78-7.78 2.81-2.81c.8-.78.8-2.07 0-2.86zM5.41 20L4 18.59l7.72-7.72 1.47 1.35L5.41 20z\"/>\n",
              "  </svg>\n",
              "      </button>\n",
              "      \n",
              "  <style>\n",
              "    .colab-df-container {\n",
              "      display:flex;\n",
              "      flex-wrap:wrap;\n",
              "      gap: 12px;\n",
              "    }\n",
              "\n",
              "    .colab-df-convert {\n",
              "      background-color: #E8F0FE;\n",
              "      border: none;\n",
              "      border-radius: 50%;\n",
              "      cursor: pointer;\n",
              "      display: none;\n",
              "      fill: #1967D2;\n",
              "      height: 32px;\n",
              "      padding: 0 0 0 0;\n",
              "      width: 32px;\n",
              "    }\n",
              "\n",
              "    .colab-df-convert:hover {\n",
              "      background-color: #E2EBFA;\n",
              "      box-shadow: 0px 1px 2px rgba(60, 64, 67, 0.3), 0px 1px 3px 1px rgba(60, 64, 67, 0.15);\n",
              "      fill: #174EA6;\n",
              "    }\n",
              "\n",
              "    [theme=dark] .colab-df-convert {\n",
              "      background-color: #3B4455;\n",
              "      fill: #D2E3FC;\n",
              "    }\n",
              "\n",
              "    [theme=dark] .colab-df-convert:hover {\n",
              "      background-color: #434B5C;\n",
              "      box-shadow: 0px 1px 3px 1px rgba(0, 0, 0, 0.15);\n",
              "      filter: drop-shadow(0px 1px 2px rgba(0, 0, 0, 0.3));\n",
              "      fill: #FFFFFF;\n",
              "    }\n",
              "  </style>\n",
              "\n",
              "      <script>\n",
              "        const buttonEl =\n",
              "          document.querySelector('#df-271f4295-15da-4a62-b877-0947487fb13d button.colab-df-convert');\n",
              "        buttonEl.style.display =\n",
              "          google.colab.kernel.accessAllowed ? 'block' : 'none';\n",
              "\n",
              "        async function convertToInteractive(key) {\n",
              "          const element = document.querySelector('#df-271f4295-15da-4a62-b877-0947487fb13d');\n",
              "          const dataTable =\n",
              "            await google.colab.kernel.invokeFunction('convertToInteractive',\n",
              "                                                     [key], {});\n",
              "          if (!dataTable) return;\n",
              "\n",
              "          const docLinkHtml = 'Like what you see? Visit the ' +\n",
              "            '<a target=\"_blank\" href=https://colab.research.google.com/notebooks/data_table.ipynb>data table notebook</a>'\n",
              "            + ' to learn more about interactive tables.';\n",
              "          element.innerHTML = '';\n",
              "          dataTable['output_type'] = 'display_data';\n",
              "          await google.colab.output.renderOutput(dataTable, element);\n",
              "          const docLink = document.createElement('div');\n",
              "          docLink.innerHTML = docLinkHtml;\n",
              "          element.appendChild(docLink);\n",
              "        }\n",
              "      </script>\n",
              "    </div>\n",
              "  </div>\n",
              "  "
            ]
          },
          "metadata": {},
          "execution_count": 10
        }
      ],
      "source": [
        "df.head()"
      ]
    },
    {
      "cell_type": "code",
      "execution_count": 11,
      "id": "a54f54d1",
      "metadata": {
        "colab": {
          "base_uri": "https://localhost:8080/"
        },
        "id": "a54f54d1",
        "outputId": "ef186540-e9f8-4d7d-b346-ce7b8b16fbaf"
      },
      "outputs": [
        {
          "output_type": "stream",
          "name": "stdout",
          "text": [
            "Missing Values: \n",
            "product-type ===> 0\n",
            "steel ===> 86\n",
            "carbon ===> 0\n",
            "hardness ===> 0\n",
            "strength ===> 0\n",
            "shape ===> 0\n",
            "thick ===> 0\n",
            "width ===> 0\n",
            "len ===> 0\n",
            "bore ===> 0\n",
            "class ===> 0\n"
          ]
        }
      ],
      "source": [
        "print('Missing Values: ')\n",
        "droppingColumns = []\n",
        "for ci,column in enumerate(df.columns):\n",
        "    count = 0\n",
        "    for j in range(len(df)):\n",
        "        if df.iloc[j , ci] == '?':\n",
        "            count += 1\n",
        "    if count > 1:\n",
        "        droppingColumns.append(column)\n",
        "    print(column, '===>', count)"
      ]
    },
    {
      "cell_type": "code",
      "execution_count": 12,
      "id": "2ca40fae",
      "metadata": {
        "colab": {
          "base_uri": "https://localhost:8080/",
          "height": 424
        },
        "id": "2ca40fae",
        "outputId": "3a321639-5072-4099-f2a1-c49d0c34a5c0"
      },
      "outputs": [
        {
          "output_type": "execute_result",
          "data": {
            "text/plain": [
              "    product-type steel  carbon  hardness  strength  shape  thick   width  len  \\\n",
              "0              C     R       0         0         0   COIL  3.200   610.0    0   \n",
              "1              C     R       0         0         0  SHEET  0.700  1300.0  762   \n",
              "2              C     A       0        60         0   COIL  2.801   385.1    0   \n",
              "3              C     A       0        60         0  SHEET  0.801   255.0  269   \n",
              "4              C     A       0        45         0   COIL  1.600   610.0    0   \n",
              "..           ...   ...     ...       ...       ...    ...    ...     ...  ...   \n",
              "891            C     R       0         0         0  SHEET  1.599   610.0  762   \n",
              "892            C     R       0         0         0  SHEET  1.601   830.0  880   \n",
              "893            C     V       0         0         0  SHEET  1.599   150.0  762   \n",
              "894            C     A       0        85         0   COIL  0.400    20.0    0   \n",
              "895            C     A       0        85         0   COIL  4.000   610.0    0   \n",
              "\n",
              "     bore class  \n",
              "0       0     3  \n",
              "1       0     3  \n",
              "2       0     3  \n",
              "3       0     3  \n",
              "4       0     3  \n",
              "..    ...   ...  \n",
              "891     0     2  \n",
              "892     0     2  \n",
              "893     0     2  \n",
              "894     0     U  \n",
              "895   500     U  \n",
              "\n",
              "[896 rows x 11 columns]"
            ],
            "text/html": [
              "\n",
              "  <div id=\"df-087ff20e-13de-474e-af51-15978805ca25\">\n",
              "    <div class=\"colab-df-container\">\n",
              "      <div>\n",
              "<style scoped>\n",
              "    .dataframe tbody tr th:only-of-type {\n",
              "        vertical-align: middle;\n",
              "    }\n",
              "\n",
              "    .dataframe tbody tr th {\n",
              "        vertical-align: top;\n",
              "    }\n",
              "\n",
              "    .dataframe thead th {\n",
              "        text-align: right;\n",
              "    }\n",
              "</style>\n",
              "<table border=\"1\" class=\"dataframe\">\n",
              "  <thead>\n",
              "    <tr style=\"text-align: right;\">\n",
              "      <th></th>\n",
              "      <th>product-type</th>\n",
              "      <th>steel</th>\n",
              "      <th>carbon</th>\n",
              "      <th>hardness</th>\n",
              "      <th>strength</th>\n",
              "      <th>shape</th>\n",
              "      <th>thick</th>\n",
              "      <th>width</th>\n",
              "      <th>len</th>\n",
              "      <th>bore</th>\n",
              "      <th>class</th>\n",
              "    </tr>\n",
              "  </thead>\n",
              "  <tbody>\n",
              "    <tr>\n",
              "      <th>0</th>\n",
              "      <td>C</td>\n",
              "      <td>R</td>\n",
              "      <td>0</td>\n",
              "      <td>0</td>\n",
              "      <td>0</td>\n",
              "      <td>COIL</td>\n",
              "      <td>3.200</td>\n",
              "      <td>610.0</td>\n",
              "      <td>0</td>\n",
              "      <td>0</td>\n",
              "      <td>3</td>\n",
              "    </tr>\n",
              "    <tr>\n",
              "      <th>1</th>\n",
              "      <td>C</td>\n",
              "      <td>R</td>\n",
              "      <td>0</td>\n",
              "      <td>0</td>\n",
              "      <td>0</td>\n",
              "      <td>SHEET</td>\n",
              "      <td>0.700</td>\n",
              "      <td>1300.0</td>\n",
              "      <td>762</td>\n",
              "      <td>0</td>\n",
              "      <td>3</td>\n",
              "    </tr>\n",
              "    <tr>\n",
              "      <th>2</th>\n",
              "      <td>C</td>\n",
              "      <td>A</td>\n",
              "      <td>0</td>\n",
              "      <td>60</td>\n",
              "      <td>0</td>\n",
              "      <td>COIL</td>\n",
              "      <td>2.801</td>\n",
              "      <td>385.1</td>\n",
              "      <td>0</td>\n",
              "      <td>0</td>\n",
              "      <td>3</td>\n",
              "    </tr>\n",
              "    <tr>\n",
              "      <th>3</th>\n",
              "      <td>C</td>\n",
              "      <td>A</td>\n",
              "      <td>0</td>\n",
              "      <td>60</td>\n",
              "      <td>0</td>\n",
              "      <td>SHEET</td>\n",
              "      <td>0.801</td>\n",
              "      <td>255.0</td>\n",
              "      <td>269</td>\n",
              "      <td>0</td>\n",
              "      <td>3</td>\n",
              "    </tr>\n",
              "    <tr>\n",
              "      <th>4</th>\n",
              "      <td>C</td>\n",
              "      <td>A</td>\n",
              "      <td>0</td>\n",
              "      <td>45</td>\n",
              "      <td>0</td>\n",
              "      <td>COIL</td>\n",
              "      <td>1.600</td>\n",
              "      <td>610.0</td>\n",
              "      <td>0</td>\n",
              "      <td>0</td>\n",
              "      <td>3</td>\n",
              "    </tr>\n",
              "    <tr>\n",
              "      <th>...</th>\n",
              "      <td>...</td>\n",
              "      <td>...</td>\n",
              "      <td>...</td>\n",
              "      <td>...</td>\n",
              "      <td>...</td>\n",
              "      <td>...</td>\n",
              "      <td>...</td>\n",
              "      <td>...</td>\n",
              "      <td>...</td>\n",
              "      <td>...</td>\n",
              "      <td>...</td>\n",
              "    </tr>\n",
              "    <tr>\n",
              "      <th>891</th>\n",
              "      <td>C</td>\n",
              "      <td>R</td>\n",
              "      <td>0</td>\n",
              "      <td>0</td>\n",
              "      <td>0</td>\n",
              "      <td>SHEET</td>\n",
              "      <td>1.599</td>\n",
              "      <td>610.0</td>\n",
              "      <td>762</td>\n",
              "      <td>0</td>\n",
              "      <td>2</td>\n",
              "    </tr>\n",
              "    <tr>\n",
              "      <th>892</th>\n",
              "      <td>C</td>\n",
              "      <td>R</td>\n",
              "      <td>0</td>\n",
              "      <td>0</td>\n",
              "      <td>0</td>\n",
              "      <td>SHEET</td>\n",
              "      <td>1.601</td>\n",
              "      <td>830.0</td>\n",
              "      <td>880</td>\n",
              "      <td>0</td>\n",
              "      <td>2</td>\n",
              "    </tr>\n",
              "    <tr>\n",
              "      <th>893</th>\n",
              "      <td>C</td>\n",
              "      <td>V</td>\n",
              "      <td>0</td>\n",
              "      <td>0</td>\n",
              "      <td>0</td>\n",
              "      <td>SHEET</td>\n",
              "      <td>1.599</td>\n",
              "      <td>150.0</td>\n",
              "      <td>762</td>\n",
              "      <td>0</td>\n",
              "      <td>2</td>\n",
              "    </tr>\n",
              "    <tr>\n",
              "      <th>894</th>\n",
              "      <td>C</td>\n",
              "      <td>A</td>\n",
              "      <td>0</td>\n",
              "      <td>85</td>\n",
              "      <td>0</td>\n",
              "      <td>COIL</td>\n",
              "      <td>0.400</td>\n",
              "      <td>20.0</td>\n",
              "      <td>0</td>\n",
              "      <td>0</td>\n",
              "      <td>U</td>\n",
              "    </tr>\n",
              "    <tr>\n",
              "      <th>895</th>\n",
              "      <td>C</td>\n",
              "      <td>A</td>\n",
              "      <td>0</td>\n",
              "      <td>85</td>\n",
              "      <td>0</td>\n",
              "      <td>COIL</td>\n",
              "      <td>4.000</td>\n",
              "      <td>610.0</td>\n",
              "      <td>0</td>\n",
              "      <td>500</td>\n",
              "      <td>U</td>\n",
              "    </tr>\n",
              "  </tbody>\n",
              "</table>\n",
              "<p>896 rows × 11 columns</p>\n",
              "</div>\n",
              "      <button class=\"colab-df-convert\" onclick=\"convertToInteractive('df-087ff20e-13de-474e-af51-15978805ca25')\"\n",
              "              title=\"Convert this dataframe to an interactive table.\"\n",
              "              style=\"display:none;\">\n",
              "        \n",
              "  <svg xmlns=\"http://www.w3.org/2000/svg\" height=\"24px\"viewBox=\"0 0 24 24\"\n",
              "       width=\"24px\">\n",
              "    <path d=\"M0 0h24v24H0V0z\" fill=\"none\"/>\n",
              "    <path d=\"M18.56 5.44l.94 2.06.94-2.06 2.06-.94-2.06-.94-.94-2.06-.94 2.06-2.06.94zm-11 1L8.5 8.5l.94-2.06 2.06-.94-2.06-.94L8.5 2.5l-.94 2.06-2.06.94zm10 10l.94 2.06.94-2.06 2.06-.94-2.06-.94-.94-2.06-.94 2.06-2.06.94z\"/><path d=\"M17.41 7.96l-1.37-1.37c-.4-.4-.92-.59-1.43-.59-.52 0-1.04.2-1.43.59L10.3 9.45l-7.72 7.72c-.78.78-.78 2.05 0 2.83L4 21.41c.39.39.9.59 1.41.59.51 0 1.02-.2 1.41-.59l7.78-7.78 2.81-2.81c.8-.78.8-2.07 0-2.86zM5.41 20L4 18.59l7.72-7.72 1.47 1.35L5.41 20z\"/>\n",
              "  </svg>\n",
              "      </button>\n",
              "      \n",
              "  <style>\n",
              "    .colab-df-container {\n",
              "      display:flex;\n",
              "      flex-wrap:wrap;\n",
              "      gap: 12px;\n",
              "    }\n",
              "\n",
              "    .colab-df-convert {\n",
              "      background-color: #E8F0FE;\n",
              "      border: none;\n",
              "      border-radius: 50%;\n",
              "      cursor: pointer;\n",
              "      display: none;\n",
              "      fill: #1967D2;\n",
              "      height: 32px;\n",
              "      padding: 0 0 0 0;\n",
              "      width: 32px;\n",
              "    }\n",
              "\n",
              "    .colab-df-convert:hover {\n",
              "      background-color: #E2EBFA;\n",
              "      box-shadow: 0px 1px 2px rgba(60, 64, 67, 0.3), 0px 1px 3px 1px rgba(60, 64, 67, 0.15);\n",
              "      fill: #174EA6;\n",
              "    }\n",
              "\n",
              "    [theme=dark] .colab-df-convert {\n",
              "      background-color: #3B4455;\n",
              "      fill: #D2E3FC;\n",
              "    }\n",
              "\n",
              "    [theme=dark] .colab-df-convert:hover {\n",
              "      background-color: #434B5C;\n",
              "      box-shadow: 0px 1px 3px 1px rgba(0, 0, 0, 0.15);\n",
              "      filter: drop-shadow(0px 1px 2px rgba(0, 0, 0, 0.3));\n",
              "      fill: #FFFFFF;\n",
              "    }\n",
              "  </style>\n",
              "\n",
              "      <script>\n",
              "        const buttonEl =\n",
              "          document.querySelector('#df-087ff20e-13de-474e-af51-15978805ca25 button.colab-df-convert');\n",
              "        buttonEl.style.display =\n",
              "          google.colab.kernel.accessAllowed ? 'block' : 'none';\n",
              "\n",
              "        async function convertToInteractive(key) {\n",
              "          const element = document.querySelector('#df-087ff20e-13de-474e-af51-15978805ca25');\n",
              "          const dataTable =\n",
              "            await google.colab.kernel.invokeFunction('convertToInteractive',\n",
              "                                                     [key], {});\n",
              "          if (!dataTable) return;\n",
              "\n",
              "          const docLinkHtml = 'Like what you see? Visit the ' +\n",
              "            '<a target=\"_blank\" href=https://colab.research.google.com/notebooks/data_table.ipynb>data table notebook</a>'\n",
              "            + ' to learn more about interactive tables.';\n",
              "          element.innerHTML = '';\n",
              "          dataTable['output_type'] = 'display_data';\n",
              "          await google.colab.output.renderOutput(dataTable, element);\n",
              "          const docLink = document.createElement('div');\n",
              "          docLink.innerHTML = docLinkHtml;\n",
              "          element.appendChild(docLink);\n",
              "        }\n",
              "      </script>\n",
              "    </div>\n",
              "  </div>\n",
              "  "
            ]
          },
          "metadata": {},
          "execution_count": 12
        }
      ],
      "source": [
        "df"
      ]
    },
    {
      "cell_type": "code",
      "execution_count": 13,
      "id": "cd21a22e",
      "metadata": {
        "id": "cd21a22e"
      },
      "outputs": [],
      "source": [
        "for ji, j in enumerate(df['steel']):\n",
        "    if j == '?':\n",
        "        df.drop(ji,inplace = True)"
      ]
    },
    {
      "cell_type": "code",
      "execution_count": 14,
      "id": "630a04da",
      "metadata": {
        "id": "630a04da"
      },
      "outputs": [],
      "source": [
        "df.reset_index(inplace = True , drop = True)"
      ]
    },
    {
      "cell_type": "code",
      "execution_count": 15,
      "id": "d8d08b22",
      "metadata": {
        "colab": {
          "base_uri": "https://localhost:8080/"
        },
        "id": "d8d08b22",
        "outputId": "0034de05-6b0d-4ccc-dda7-98f0127368ad"
      },
      "outputs": [
        {
          "output_type": "stream",
          "name": "stdout",
          "text": [
            "Unique Values\n",
            "product-type ==> 1\n",
            "steel ==> 7\n",
            "carbon ==> 10\n",
            "hardness ==> 7\n",
            "strength ==> 8\n",
            "shape ==> 2\n",
            "thick ==> 49\n",
            "width ==> 67\n",
            "len ==> 22\n",
            "bore ==> 3\n",
            "class ==> 5\n"
          ]
        }
      ],
      "source": [
        "print('Unique Values')\n",
        "for i in df.columns:\n",
        "    print(i ,'==>' ,df[i].nunique() )"
      ]
    },
    {
      "cell_type": "code",
      "execution_count": 16,
      "id": "63d54d6f",
      "metadata": {
        "colab": {
          "base_uri": "https://localhost:8080/",
          "height": 424
        },
        "id": "63d54d6f",
        "outputId": "8dc51546-5ad3-4f75-9508-fbecc739aa50"
      },
      "outputs": [
        {
          "output_type": "execute_result",
          "data": {
            "text/plain": [
              "    steel  carbon  hardness  strength  shape  thick   width  len  bore class\n",
              "0       R       0         0         0   COIL  3.200   610.0    0     0     3\n",
              "1       R       0         0         0  SHEET  0.700  1300.0  762     0     3\n",
              "2       A       0        60         0   COIL  2.801   385.1    0     0     3\n",
              "3       A       0        60         0  SHEET  0.801   255.0  269     0     3\n",
              "4       A       0        45         0   COIL  1.600   610.0    0     0     3\n",
              "..    ...     ...       ...       ...    ...    ...     ...  ...   ...   ...\n",
              "805     R       0         0         0  SHEET  1.599   610.0  762     0     2\n",
              "806     R       0         0         0  SHEET  1.601   830.0  880     0     2\n",
              "807     V       0         0         0  SHEET  1.599   150.0  762     0     2\n",
              "808     A       0        85         0   COIL  0.400    20.0    0     0     U\n",
              "809     A       0        85         0   COIL  4.000   610.0    0   500     U\n",
              "\n",
              "[810 rows x 10 columns]"
            ],
            "text/html": [
              "\n",
              "  <div id=\"df-766b561e-8a80-483c-b3ba-55b768250116\">\n",
              "    <div class=\"colab-df-container\">\n",
              "      <div>\n",
              "<style scoped>\n",
              "    .dataframe tbody tr th:only-of-type {\n",
              "        vertical-align: middle;\n",
              "    }\n",
              "\n",
              "    .dataframe tbody tr th {\n",
              "        vertical-align: top;\n",
              "    }\n",
              "\n",
              "    .dataframe thead th {\n",
              "        text-align: right;\n",
              "    }\n",
              "</style>\n",
              "<table border=\"1\" class=\"dataframe\">\n",
              "  <thead>\n",
              "    <tr style=\"text-align: right;\">\n",
              "      <th></th>\n",
              "      <th>steel</th>\n",
              "      <th>carbon</th>\n",
              "      <th>hardness</th>\n",
              "      <th>strength</th>\n",
              "      <th>shape</th>\n",
              "      <th>thick</th>\n",
              "      <th>width</th>\n",
              "      <th>len</th>\n",
              "      <th>bore</th>\n",
              "      <th>class</th>\n",
              "    </tr>\n",
              "  </thead>\n",
              "  <tbody>\n",
              "    <tr>\n",
              "      <th>0</th>\n",
              "      <td>R</td>\n",
              "      <td>0</td>\n",
              "      <td>0</td>\n",
              "      <td>0</td>\n",
              "      <td>COIL</td>\n",
              "      <td>3.200</td>\n",
              "      <td>610.0</td>\n",
              "      <td>0</td>\n",
              "      <td>0</td>\n",
              "      <td>3</td>\n",
              "    </tr>\n",
              "    <tr>\n",
              "      <th>1</th>\n",
              "      <td>R</td>\n",
              "      <td>0</td>\n",
              "      <td>0</td>\n",
              "      <td>0</td>\n",
              "      <td>SHEET</td>\n",
              "      <td>0.700</td>\n",
              "      <td>1300.0</td>\n",
              "      <td>762</td>\n",
              "      <td>0</td>\n",
              "      <td>3</td>\n",
              "    </tr>\n",
              "    <tr>\n",
              "      <th>2</th>\n",
              "      <td>A</td>\n",
              "      <td>0</td>\n",
              "      <td>60</td>\n",
              "      <td>0</td>\n",
              "      <td>COIL</td>\n",
              "      <td>2.801</td>\n",
              "      <td>385.1</td>\n",
              "      <td>0</td>\n",
              "      <td>0</td>\n",
              "      <td>3</td>\n",
              "    </tr>\n",
              "    <tr>\n",
              "      <th>3</th>\n",
              "      <td>A</td>\n",
              "      <td>0</td>\n",
              "      <td>60</td>\n",
              "      <td>0</td>\n",
              "      <td>SHEET</td>\n",
              "      <td>0.801</td>\n",
              "      <td>255.0</td>\n",
              "      <td>269</td>\n",
              "      <td>0</td>\n",
              "      <td>3</td>\n",
              "    </tr>\n",
              "    <tr>\n",
              "      <th>4</th>\n",
              "      <td>A</td>\n",
              "      <td>0</td>\n",
              "      <td>45</td>\n",
              "      <td>0</td>\n",
              "      <td>COIL</td>\n",
              "      <td>1.600</td>\n",
              "      <td>610.0</td>\n",
              "      <td>0</td>\n",
              "      <td>0</td>\n",
              "      <td>3</td>\n",
              "    </tr>\n",
              "    <tr>\n",
              "      <th>...</th>\n",
              "      <td>...</td>\n",
              "      <td>...</td>\n",
              "      <td>...</td>\n",
              "      <td>...</td>\n",
              "      <td>...</td>\n",
              "      <td>...</td>\n",
              "      <td>...</td>\n",
              "      <td>...</td>\n",
              "      <td>...</td>\n",
              "      <td>...</td>\n",
              "    </tr>\n",
              "    <tr>\n",
              "      <th>805</th>\n",
              "      <td>R</td>\n",
              "      <td>0</td>\n",
              "      <td>0</td>\n",
              "      <td>0</td>\n",
              "      <td>SHEET</td>\n",
              "      <td>1.599</td>\n",
              "      <td>610.0</td>\n",
              "      <td>762</td>\n",
              "      <td>0</td>\n",
              "      <td>2</td>\n",
              "    </tr>\n",
              "    <tr>\n",
              "      <th>806</th>\n",
              "      <td>R</td>\n",
              "      <td>0</td>\n",
              "      <td>0</td>\n",
              "      <td>0</td>\n",
              "      <td>SHEET</td>\n",
              "      <td>1.601</td>\n",
              "      <td>830.0</td>\n",
              "      <td>880</td>\n",
              "      <td>0</td>\n",
              "      <td>2</td>\n",
              "    </tr>\n",
              "    <tr>\n",
              "      <th>807</th>\n",
              "      <td>V</td>\n",
              "      <td>0</td>\n",
              "      <td>0</td>\n",
              "      <td>0</td>\n",
              "      <td>SHEET</td>\n",
              "      <td>1.599</td>\n",
              "      <td>150.0</td>\n",
              "      <td>762</td>\n",
              "      <td>0</td>\n",
              "      <td>2</td>\n",
              "    </tr>\n",
              "    <tr>\n",
              "      <th>808</th>\n",
              "      <td>A</td>\n",
              "      <td>0</td>\n",
              "      <td>85</td>\n",
              "      <td>0</td>\n",
              "      <td>COIL</td>\n",
              "      <td>0.400</td>\n",
              "      <td>20.0</td>\n",
              "      <td>0</td>\n",
              "      <td>0</td>\n",
              "      <td>U</td>\n",
              "    </tr>\n",
              "    <tr>\n",
              "      <th>809</th>\n",
              "      <td>A</td>\n",
              "      <td>0</td>\n",
              "      <td>85</td>\n",
              "      <td>0</td>\n",
              "      <td>COIL</td>\n",
              "      <td>4.000</td>\n",
              "      <td>610.0</td>\n",
              "      <td>0</td>\n",
              "      <td>500</td>\n",
              "      <td>U</td>\n",
              "    </tr>\n",
              "  </tbody>\n",
              "</table>\n",
              "<p>810 rows × 10 columns</p>\n",
              "</div>\n",
              "      <button class=\"colab-df-convert\" onclick=\"convertToInteractive('df-766b561e-8a80-483c-b3ba-55b768250116')\"\n",
              "              title=\"Convert this dataframe to an interactive table.\"\n",
              "              style=\"display:none;\">\n",
              "        \n",
              "  <svg xmlns=\"http://www.w3.org/2000/svg\" height=\"24px\"viewBox=\"0 0 24 24\"\n",
              "       width=\"24px\">\n",
              "    <path d=\"M0 0h24v24H0V0z\" fill=\"none\"/>\n",
              "    <path d=\"M18.56 5.44l.94 2.06.94-2.06 2.06-.94-2.06-.94-.94-2.06-.94 2.06-2.06.94zm-11 1L8.5 8.5l.94-2.06 2.06-.94-2.06-.94L8.5 2.5l-.94 2.06-2.06.94zm10 10l.94 2.06.94-2.06 2.06-.94-2.06-.94-.94-2.06-.94 2.06-2.06.94z\"/><path d=\"M17.41 7.96l-1.37-1.37c-.4-.4-.92-.59-1.43-.59-.52 0-1.04.2-1.43.59L10.3 9.45l-7.72 7.72c-.78.78-.78 2.05 0 2.83L4 21.41c.39.39.9.59 1.41.59.51 0 1.02-.2 1.41-.59l7.78-7.78 2.81-2.81c.8-.78.8-2.07 0-2.86zM5.41 20L4 18.59l7.72-7.72 1.47 1.35L5.41 20z\"/>\n",
              "  </svg>\n",
              "      </button>\n",
              "      \n",
              "  <style>\n",
              "    .colab-df-container {\n",
              "      display:flex;\n",
              "      flex-wrap:wrap;\n",
              "      gap: 12px;\n",
              "    }\n",
              "\n",
              "    .colab-df-convert {\n",
              "      background-color: #E8F0FE;\n",
              "      border: none;\n",
              "      border-radius: 50%;\n",
              "      cursor: pointer;\n",
              "      display: none;\n",
              "      fill: #1967D2;\n",
              "      height: 32px;\n",
              "      padding: 0 0 0 0;\n",
              "      width: 32px;\n",
              "    }\n",
              "\n",
              "    .colab-df-convert:hover {\n",
              "      background-color: #E2EBFA;\n",
              "      box-shadow: 0px 1px 2px rgba(60, 64, 67, 0.3), 0px 1px 3px 1px rgba(60, 64, 67, 0.15);\n",
              "      fill: #174EA6;\n",
              "    }\n",
              "\n",
              "    [theme=dark] .colab-df-convert {\n",
              "      background-color: #3B4455;\n",
              "      fill: #D2E3FC;\n",
              "    }\n",
              "\n",
              "    [theme=dark] .colab-df-convert:hover {\n",
              "      background-color: #434B5C;\n",
              "      box-shadow: 0px 1px 3px 1px rgba(0, 0, 0, 0.15);\n",
              "      filter: drop-shadow(0px 1px 2px rgba(0, 0, 0, 0.3));\n",
              "      fill: #FFFFFF;\n",
              "    }\n",
              "  </style>\n",
              "\n",
              "      <script>\n",
              "        const buttonEl =\n",
              "          document.querySelector('#df-766b561e-8a80-483c-b3ba-55b768250116 button.colab-df-convert');\n",
              "        buttonEl.style.display =\n",
              "          google.colab.kernel.accessAllowed ? 'block' : 'none';\n",
              "\n",
              "        async function convertToInteractive(key) {\n",
              "          const element = document.querySelector('#df-766b561e-8a80-483c-b3ba-55b768250116');\n",
              "          const dataTable =\n",
              "            await google.colab.kernel.invokeFunction('convertToInteractive',\n",
              "                                                     [key], {});\n",
              "          if (!dataTable) return;\n",
              "\n",
              "          const docLinkHtml = 'Like what you see? Visit the ' +\n",
              "            '<a target=\"_blank\" href=https://colab.research.google.com/notebooks/data_table.ipynb>data table notebook</a>'\n",
              "            + ' to learn more about interactive tables.';\n",
              "          element.innerHTML = '';\n",
              "          dataTable['output_type'] = 'display_data';\n",
              "          await google.colab.output.renderOutput(dataTable, element);\n",
              "          const docLink = document.createElement('div');\n",
              "          docLink.innerHTML = docLinkHtml;\n",
              "          element.appendChild(docLink);\n",
              "        }\n",
              "      </script>\n",
              "    </div>\n",
              "  </div>\n",
              "  "
            ]
          },
          "metadata": {},
          "execution_count": 16
        }
      ],
      "source": [
        "df.drop(['product-type'] , inplace = True, axis = 1)\n",
        "df"
      ]
    },
    {
      "cell_type": "code",
      "execution_count": 17,
      "id": "1877b692",
      "metadata": {
        "id": "1877b692"
      },
      "outputs": [],
      "source": [
        "## Encoding columns\n",
        "def encode(df, colums):\n",
        "    for col in colums:\n",
        "        dic = {}\n",
        "        count = 0\n",
        "        for ji,j in enumerate(df[col]):\n",
        "            if j not in dic:\n",
        "                dic[j] = count\n",
        "                df.loc[ji, col] = dic[j]\n",
        "                count += 1\n",
        "            else:\n",
        "                df.loc[ji, col] = dic[j]\n",
        "    return df"
      ]
    },
    {
      "cell_type": "code",
      "execution_count": 18,
      "id": "6ff0a15d",
      "metadata": {
        "id": "6ff0a15d"
      },
      "outputs": [],
      "source": [
        "df = encode(df, ['shape','bore','class','steel'])"
      ]
    },
    {
      "cell_type": "code",
      "execution_count": 19,
      "id": "ec0dd2cc",
      "metadata": {
        "id": "ec0dd2cc"
      },
      "outputs": [],
      "source": [
        "df['shape'] = df['shape'].astype('int64')"
      ]
    },
    {
      "cell_type": "code",
      "execution_count": 20,
      "id": "7874a303",
      "metadata": {
        "id": "7874a303"
      },
      "outputs": [],
      "source": [
        "df['class'] = df['class'].astype('int64')"
      ]
    },
    {
      "cell_type": "code",
      "execution_count": 21,
      "id": "ceae6f1e",
      "metadata": {
        "id": "ceae6f1e"
      },
      "outputs": [],
      "source": [
        "df['steel'] = df['steel'].astype('int64')"
      ]
    },
    {
      "cell_type": "code",
      "execution_count": 22,
      "id": "47c03ec4",
      "metadata": {
        "colab": {
          "base_uri": "https://localhost:8080/"
        },
        "id": "47c03ec4",
        "outputId": "50f035ae-9f91-4f5c-c8a2-cdf6a9127afc"
      },
      "outputs": [
        {
          "output_type": "stream",
          "name": "stdout",
          "text": [
            "<class 'pandas.core.frame.DataFrame'>\n",
            "RangeIndex: 810 entries, 0 to 809\n",
            "Data columns (total 10 columns):\n",
            " #   Column    Non-Null Count  Dtype  \n",
            "---  ------    --------------  -----  \n",
            " 0   steel     810 non-null    int64  \n",
            " 1   carbon    810 non-null    int64  \n",
            " 2   hardness  810 non-null    int64  \n",
            " 3   strength  810 non-null    int64  \n",
            " 4   shape     810 non-null    int64  \n",
            " 5   thick     810 non-null    float64\n",
            " 6   width     810 non-null    float64\n",
            " 7   len       810 non-null    int64  \n",
            " 8   bore      810 non-null    int64  \n",
            " 9   class     810 non-null    int64  \n",
            "dtypes: float64(2), int64(8)\n",
            "memory usage: 63.4 KB\n"
          ]
        }
      ],
      "source": [
        "df.info()"
      ]
    },
    {
      "cell_type": "code",
      "execution_count": 23,
      "id": "7d7ca2b8",
      "metadata": {
        "colab": {
          "base_uri": "https://localhost:8080/",
          "height": 300
        },
        "id": "7d7ca2b8",
        "outputId": "f3771f92-75e3-4f16-fd6f-77110280b1fd"
      },
      "outputs": [
        {
          "output_type": "execute_result",
          "data": {
            "text/plain": [
              "            steel      carbon    hardness    strength       shape       thick  \\\n",
              "count  810.000000  810.000000  810.000000  810.000000  810.000000  810.000000   \n",
              "mean     1.039506    4.019753   11.876543   29.061728    0.541975    1.226302   \n",
              "std      1.236415   14.388383   24.967164  111.259154    0.498543    0.876360   \n",
              "min      0.000000    0.000000    0.000000    0.000000    0.000000    0.250000   \n",
              "25%      0.000000    0.000000    0.000000    0.000000    0.000000    0.699000   \n",
              "50%      1.000000    0.000000    0.000000    0.000000    1.000000    0.800000   \n",
              "75%      1.000000    0.000000    0.000000    0.000000    1.000000    1.600000   \n",
              "max      6.000000   70.000000   85.000000  700.000000    1.000000    4.000000   \n",
              "\n",
              "             width          len        bore       class  \n",
              "count   810.000000   810.000000  810.000000  810.000000  \n",
              "mean    787.196049  1276.011111    0.090123    0.696296  \n",
              "std     403.311681  1883.008826    0.398422    1.391875  \n",
              "min       0.000000     0.000000    0.000000    0.000000  \n",
              "25%     609.900000     0.000000    0.000000    0.000000  \n",
              "50%     610.000000   612.000000    0.000000    0.000000  \n",
              "75%    1250.000000   762.000000    0.000000    0.000000  \n",
              "max    1525.000000  4880.000000    2.000000    4.000000  "
            ],
            "text/html": [
              "\n",
              "  <div id=\"df-12ea6444-fa92-481d-946c-43de20d65bfd\">\n",
              "    <div class=\"colab-df-container\">\n",
              "      <div>\n",
              "<style scoped>\n",
              "    .dataframe tbody tr th:only-of-type {\n",
              "        vertical-align: middle;\n",
              "    }\n",
              "\n",
              "    .dataframe tbody tr th {\n",
              "        vertical-align: top;\n",
              "    }\n",
              "\n",
              "    .dataframe thead th {\n",
              "        text-align: right;\n",
              "    }\n",
              "</style>\n",
              "<table border=\"1\" class=\"dataframe\">\n",
              "  <thead>\n",
              "    <tr style=\"text-align: right;\">\n",
              "      <th></th>\n",
              "      <th>steel</th>\n",
              "      <th>carbon</th>\n",
              "      <th>hardness</th>\n",
              "      <th>strength</th>\n",
              "      <th>shape</th>\n",
              "      <th>thick</th>\n",
              "      <th>width</th>\n",
              "      <th>len</th>\n",
              "      <th>bore</th>\n",
              "      <th>class</th>\n",
              "    </tr>\n",
              "  </thead>\n",
              "  <tbody>\n",
              "    <tr>\n",
              "      <th>count</th>\n",
              "      <td>810.000000</td>\n",
              "      <td>810.000000</td>\n",
              "      <td>810.000000</td>\n",
              "      <td>810.000000</td>\n",
              "      <td>810.000000</td>\n",
              "      <td>810.000000</td>\n",
              "      <td>810.000000</td>\n",
              "      <td>810.000000</td>\n",
              "      <td>810.000000</td>\n",
              "      <td>810.000000</td>\n",
              "    </tr>\n",
              "    <tr>\n",
              "      <th>mean</th>\n",
              "      <td>1.039506</td>\n",
              "      <td>4.019753</td>\n",
              "      <td>11.876543</td>\n",
              "      <td>29.061728</td>\n",
              "      <td>0.541975</td>\n",
              "      <td>1.226302</td>\n",
              "      <td>787.196049</td>\n",
              "      <td>1276.011111</td>\n",
              "      <td>0.090123</td>\n",
              "      <td>0.696296</td>\n",
              "    </tr>\n",
              "    <tr>\n",
              "      <th>std</th>\n",
              "      <td>1.236415</td>\n",
              "      <td>14.388383</td>\n",
              "      <td>24.967164</td>\n",
              "      <td>111.259154</td>\n",
              "      <td>0.498543</td>\n",
              "      <td>0.876360</td>\n",
              "      <td>403.311681</td>\n",
              "      <td>1883.008826</td>\n",
              "      <td>0.398422</td>\n",
              "      <td>1.391875</td>\n",
              "    </tr>\n",
              "    <tr>\n",
              "      <th>min</th>\n",
              "      <td>0.000000</td>\n",
              "      <td>0.000000</td>\n",
              "      <td>0.000000</td>\n",
              "      <td>0.000000</td>\n",
              "      <td>0.000000</td>\n",
              "      <td>0.250000</td>\n",
              "      <td>0.000000</td>\n",
              "      <td>0.000000</td>\n",
              "      <td>0.000000</td>\n",
              "      <td>0.000000</td>\n",
              "    </tr>\n",
              "    <tr>\n",
              "      <th>25%</th>\n",
              "      <td>0.000000</td>\n",
              "      <td>0.000000</td>\n",
              "      <td>0.000000</td>\n",
              "      <td>0.000000</td>\n",
              "      <td>0.000000</td>\n",
              "      <td>0.699000</td>\n",
              "      <td>609.900000</td>\n",
              "      <td>0.000000</td>\n",
              "      <td>0.000000</td>\n",
              "      <td>0.000000</td>\n",
              "    </tr>\n",
              "    <tr>\n",
              "      <th>50%</th>\n",
              "      <td>1.000000</td>\n",
              "      <td>0.000000</td>\n",
              "      <td>0.000000</td>\n",
              "      <td>0.000000</td>\n",
              "      <td>1.000000</td>\n",
              "      <td>0.800000</td>\n",
              "      <td>610.000000</td>\n",
              "      <td>612.000000</td>\n",
              "      <td>0.000000</td>\n",
              "      <td>0.000000</td>\n",
              "    </tr>\n",
              "    <tr>\n",
              "      <th>75%</th>\n",
              "      <td>1.000000</td>\n",
              "      <td>0.000000</td>\n",
              "      <td>0.000000</td>\n",
              "      <td>0.000000</td>\n",
              "      <td>1.000000</td>\n",
              "      <td>1.600000</td>\n",
              "      <td>1250.000000</td>\n",
              "      <td>762.000000</td>\n",
              "      <td>0.000000</td>\n",
              "      <td>0.000000</td>\n",
              "    </tr>\n",
              "    <tr>\n",
              "      <th>max</th>\n",
              "      <td>6.000000</td>\n",
              "      <td>70.000000</td>\n",
              "      <td>85.000000</td>\n",
              "      <td>700.000000</td>\n",
              "      <td>1.000000</td>\n",
              "      <td>4.000000</td>\n",
              "      <td>1525.000000</td>\n",
              "      <td>4880.000000</td>\n",
              "      <td>2.000000</td>\n",
              "      <td>4.000000</td>\n",
              "    </tr>\n",
              "  </tbody>\n",
              "</table>\n",
              "</div>\n",
              "      <button class=\"colab-df-convert\" onclick=\"convertToInteractive('df-12ea6444-fa92-481d-946c-43de20d65bfd')\"\n",
              "              title=\"Convert this dataframe to an interactive table.\"\n",
              "              style=\"display:none;\">\n",
              "        \n",
              "  <svg xmlns=\"http://www.w3.org/2000/svg\" height=\"24px\"viewBox=\"0 0 24 24\"\n",
              "       width=\"24px\">\n",
              "    <path d=\"M0 0h24v24H0V0z\" fill=\"none\"/>\n",
              "    <path d=\"M18.56 5.44l.94 2.06.94-2.06 2.06-.94-2.06-.94-.94-2.06-.94 2.06-2.06.94zm-11 1L8.5 8.5l.94-2.06 2.06-.94-2.06-.94L8.5 2.5l-.94 2.06-2.06.94zm10 10l.94 2.06.94-2.06 2.06-.94-2.06-.94-.94-2.06-.94 2.06-2.06.94z\"/><path d=\"M17.41 7.96l-1.37-1.37c-.4-.4-.92-.59-1.43-.59-.52 0-1.04.2-1.43.59L10.3 9.45l-7.72 7.72c-.78.78-.78 2.05 0 2.83L4 21.41c.39.39.9.59 1.41.59.51 0 1.02-.2 1.41-.59l7.78-7.78 2.81-2.81c.8-.78.8-2.07 0-2.86zM5.41 20L4 18.59l7.72-7.72 1.47 1.35L5.41 20z\"/>\n",
              "  </svg>\n",
              "      </button>\n",
              "      \n",
              "  <style>\n",
              "    .colab-df-container {\n",
              "      display:flex;\n",
              "      flex-wrap:wrap;\n",
              "      gap: 12px;\n",
              "    }\n",
              "\n",
              "    .colab-df-convert {\n",
              "      background-color: #E8F0FE;\n",
              "      border: none;\n",
              "      border-radius: 50%;\n",
              "      cursor: pointer;\n",
              "      display: none;\n",
              "      fill: #1967D2;\n",
              "      height: 32px;\n",
              "      padding: 0 0 0 0;\n",
              "      width: 32px;\n",
              "    }\n",
              "\n",
              "    .colab-df-convert:hover {\n",
              "      background-color: #E2EBFA;\n",
              "      box-shadow: 0px 1px 2px rgba(60, 64, 67, 0.3), 0px 1px 3px 1px rgba(60, 64, 67, 0.15);\n",
              "      fill: #174EA6;\n",
              "    }\n",
              "\n",
              "    [theme=dark] .colab-df-convert {\n",
              "      background-color: #3B4455;\n",
              "      fill: #D2E3FC;\n",
              "    }\n",
              "\n",
              "    [theme=dark] .colab-df-convert:hover {\n",
              "      background-color: #434B5C;\n",
              "      box-shadow: 0px 1px 3px 1px rgba(0, 0, 0, 0.15);\n",
              "      filter: drop-shadow(0px 1px 2px rgba(0, 0, 0, 0.3));\n",
              "      fill: #FFFFFF;\n",
              "    }\n",
              "  </style>\n",
              "\n",
              "      <script>\n",
              "        const buttonEl =\n",
              "          document.querySelector('#df-12ea6444-fa92-481d-946c-43de20d65bfd button.colab-df-convert');\n",
              "        buttonEl.style.display =\n",
              "          google.colab.kernel.accessAllowed ? 'block' : 'none';\n",
              "\n",
              "        async function convertToInteractive(key) {\n",
              "          const element = document.querySelector('#df-12ea6444-fa92-481d-946c-43de20d65bfd');\n",
              "          const dataTable =\n",
              "            await google.colab.kernel.invokeFunction('convertToInteractive',\n",
              "                                                     [key], {});\n",
              "          if (!dataTable) return;\n",
              "\n",
              "          const docLinkHtml = 'Like what you see? Visit the ' +\n",
              "            '<a target=\"_blank\" href=https://colab.research.google.com/notebooks/data_table.ipynb>data table notebook</a>'\n",
              "            + ' to learn more about interactive tables.';\n",
              "          element.innerHTML = '';\n",
              "          dataTable['output_type'] = 'display_data';\n",
              "          await google.colab.output.renderOutput(dataTable, element);\n",
              "          const docLink = document.createElement('div');\n",
              "          docLink.innerHTML = docLinkHtml;\n",
              "          element.appendChild(docLink);\n",
              "        }\n",
              "      </script>\n",
              "    </div>\n",
              "  </div>\n",
              "  "
            ]
          },
          "metadata": {},
          "execution_count": 23
        }
      ],
      "source": [
        "df.describe()"
      ]
    },
    {
      "cell_type": "code",
      "execution_count": 24,
      "id": "bbb454c6",
      "metadata": {
        "colab": {
          "base_uri": "https://localhost:8080/",
          "height": 206
        },
        "id": "bbb454c6",
        "outputId": "58c73d81-3047-42cc-f8ce-b028070260de"
      },
      "outputs": [
        {
          "output_type": "execute_result",
          "data": {
            "text/plain": [
              "   steel  carbon  hardness  strength  shape  thick   width  len  bore  class\n",
              "0      0       0         0         0      0  3.200   610.0    0     0      0\n",
              "1      0       0         0         0      1  0.700  1300.0  762     0      0\n",
              "2      1       0        60         0      0  2.801   385.1    0     0      0\n",
              "3      1       0        60         0      1  0.801   255.0  269     0      0\n",
              "4      1       0        45         0      0  1.600   610.0    0     0      0"
            ],
            "text/html": [
              "\n",
              "  <div id=\"df-5b8141f9-b81b-4643-b3b6-12d0cc507467\">\n",
              "    <div class=\"colab-df-container\">\n",
              "      <div>\n",
              "<style scoped>\n",
              "    .dataframe tbody tr th:only-of-type {\n",
              "        vertical-align: middle;\n",
              "    }\n",
              "\n",
              "    .dataframe tbody tr th {\n",
              "        vertical-align: top;\n",
              "    }\n",
              "\n",
              "    .dataframe thead th {\n",
              "        text-align: right;\n",
              "    }\n",
              "</style>\n",
              "<table border=\"1\" class=\"dataframe\">\n",
              "  <thead>\n",
              "    <tr style=\"text-align: right;\">\n",
              "      <th></th>\n",
              "      <th>steel</th>\n",
              "      <th>carbon</th>\n",
              "      <th>hardness</th>\n",
              "      <th>strength</th>\n",
              "      <th>shape</th>\n",
              "      <th>thick</th>\n",
              "      <th>width</th>\n",
              "      <th>len</th>\n",
              "      <th>bore</th>\n",
              "      <th>class</th>\n",
              "    </tr>\n",
              "  </thead>\n",
              "  <tbody>\n",
              "    <tr>\n",
              "      <th>0</th>\n",
              "      <td>0</td>\n",
              "      <td>0</td>\n",
              "      <td>0</td>\n",
              "      <td>0</td>\n",
              "      <td>0</td>\n",
              "      <td>3.200</td>\n",
              "      <td>610.0</td>\n",
              "      <td>0</td>\n",
              "      <td>0</td>\n",
              "      <td>0</td>\n",
              "    </tr>\n",
              "    <tr>\n",
              "      <th>1</th>\n",
              "      <td>0</td>\n",
              "      <td>0</td>\n",
              "      <td>0</td>\n",
              "      <td>0</td>\n",
              "      <td>1</td>\n",
              "      <td>0.700</td>\n",
              "      <td>1300.0</td>\n",
              "      <td>762</td>\n",
              "      <td>0</td>\n",
              "      <td>0</td>\n",
              "    </tr>\n",
              "    <tr>\n",
              "      <th>2</th>\n",
              "      <td>1</td>\n",
              "      <td>0</td>\n",
              "      <td>60</td>\n",
              "      <td>0</td>\n",
              "      <td>0</td>\n",
              "      <td>2.801</td>\n",
              "      <td>385.1</td>\n",
              "      <td>0</td>\n",
              "      <td>0</td>\n",
              "      <td>0</td>\n",
              "    </tr>\n",
              "    <tr>\n",
              "      <th>3</th>\n",
              "      <td>1</td>\n",
              "      <td>0</td>\n",
              "      <td>60</td>\n",
              "      <td>0</td>\n",
              "      <td>1</td>\n",
              "      <td>0.801</td>\n",
              "      <td>255.0</td>\n",
              "      <td>269</td>\n",
              "      <td>0</td>\n",
              "      <td>0</td>\n",
              "    </tr>\n",
              "    <tr>\n",
              "      <th>4</th>\n",
              "      <td>1</td>\n",
              "      <td>0</td>\n",
              "      <td>45</td>\n",
              "      <td>0</td>\n",
              "      <td>0</td>\n",
              "      <td>1.600</td>\n",
              "      <td>610.0</td>\n",
              "      <td>0</td>\n",
              "      <td>0</td>\n",
              "      <td>0</td>\n",
              "    </tr>\n",
              "  </tbody>\n",
              "</table>\n",
              "</div>\n",
              "      <button class=\"colab-df-convert\" onclick=\"convertToInteractive('df-5b8141f9-b81b-4643-b3b6-12d0cc507467')\"\n",
              "              title=\"Convert this dataframe to an interactive table.\"\n",
              "              style=\"display:none;\">\n",
              "        \n",
              "  <svg xmlns=\"http://www.w3.org/2000/svg\" height=\"24px\"viewBox=\"0 0 24 24\"\n",
              "       width=\"24px\">\n",
              "    <path d=\"M0 0h24v24H0V0z\" fill=\"none\"/>\n",
              "    <path d=\"M18.56 5.44l.94 2.06.94-2.06 2.06-.94-2.06-.94-.94-2.06-.94 2.06-2.06.94zm-11 1L8.5 8.5l.94-2.06 2.06-.94-2.06-.94L8.5 2.5l-.94 2.06-2.06.94zm10 10l.94 2.06.94-2.06 2.06-.94-2.06-.94-.94-2.06-.94 2.06-2.06.94z\"/><path d=\"M17.41 7.96l-1.37-1.37c-.4-.4-.92-.59-1.43-.59-.52 0-1.04.2-1.43.59L10.3 9.45l-7.72 7.72c-.78.78-.78 2.05 0 2.83L4 21.41c.39.39.9.59 1.41.59.51 0 1.02-.2 1.41-.59l7.78-7.78 2.81-2.81c.8-.78.8-2.07 0-2.86zM5.41 20L4 18.59l7.72-7.72 1.47 1.35L5.41 20z\"/>\n",
              "  </svg>\n",
              "      </button>\n",
              "      \n",
              "  <style>\n",
              "    .colab-df-container {\n",
              "      display:flex;\n",
              "      flex-wrap:wrap;\n",
              "      gap: 12px;\n",
              "    }\n",
              "\n",
              "    .colab-df-convert {\n",
              "      background-color: #E8F0FE;\n",
              "      border: none;\n",
              "      border-radius: 50%;\n",
              "      cursor: pointer;\n",
              "      display: none;\n",
              "      fill: #1967D2;\n",
              "      height: 32px;\n",
              "      padding: 0 0 0 0;\n",
              "      width: 32px;\n",
              "    }\n",
              "\n",
              "    .colab-df-convert:hover {\n",
              "      background-color: #E2EBFA;\n",
              "      box-shadow: 0px 1px 2px rgba(60, 64, 67, 0.3), 0px 1px 3px 1px rgba(60, 64, 67, 0.15);\n",
              "      fill: #174EA6;\n",
              "    }\n",
              "\n",
              "    [theme=dark] .colab-df-convert {\n",
              "      background-color: #3B4455;\n",
              "      fill: #D2E3FC;\n",
              "    }\n",
              "\n",
              "    [theme=dark] .colab-df-convert:hover {\n",
              "      background-color: #434B5C;\n",
              "      box-shadow: 0px 1px 3px 1px rgba(0, 0, 0, 0.15);\n",
              "      filter: drop-shadow(0px 1px 2px rgba(0, 0, 0, 0.3));\n",
              "      fill: #FFFFFF;\n",
              "    }\n",
              "  </style>\n",
              "\n",
              "      <script>\n",
              "        const buttonEl =\n",
              "          document.querySelector('#df-5b8141f9-b81b-4643-b3b6-12d0cc507467 button.colab-df-convert');\n",
              "        buttonEl.style.display =\n",
              "          google.colab.kernel.accessAllowed ? 'block' : 'none';\n",
              "\n",
              "        async function convertToInteractive(key) {\n",
              "          const element = document.querySelector('#df-5b8141f9-b81b-4643-b3b6-12d0cc507467');\n",
              "          const dataTable =\n",
              "            await google.colab.kernel.invokeFunction('convertToInteractive',\n",
              "                                                     [key], {});\n",
              "          if (!dataTable) return;\n",
              "\n",
              "          const docLinkHtml = 'Like what you see? Visit the ' +\n",
              "            '<a target=\"_blank\" href=https://colab.research.google.com/notebooks/data_table.ipynb>data table notebook</a>'\n",
              "            + ' to learn more about interactive tables.';\n",
              "          element.innerHTML = '';\n",
              "          dataTable['output_type'] = 'display_data';\n",
              "          await google.colab.output.renderOutput(dataTable, element);\n",
              "          const docLink = document.createElement('div');\n",
              "          docLink.innerHTML = docLinkHtml;\n",
              "          element.appendChild(docLink);\n",
              "        }\n",
              "      </script>\n",
              "    </div>\n",
              "  </div>\n",
              "  "
            ]
          },
          "metadata": {},
          "execution_count": 24
        }
      ],
      "source": [
        "df.head()"
      ]
    },
    {
      "cell_type": "code",
      "source": [
        "sns.jointplot(data = df , x = 'thick' , y = 'class', kind = 'kde', fill = True, cmap = 'magma')"
      ],
      "metadata": {
        "colab": {
          "base_uri": "https://localhost:8080/",
          "height": 458
        },
        "id": "ey4svP52fzKN",
        "outputId": "0bbb3372-9869-41f4-eebe-f8d9cabe410b"
      },
      "id": "ey4svP52fzKN",
      "execution_count": 69,
      "outputs": [
        {
          "output_type": "execute_result",
          "data": {
            "text/plain": [
              "<seaborn.axisgrid.JointGrid at 0x7fc3e4609050>"
            ]
          },
          "metadata": {},
          "execution_count": 69
        },
        {
          "output_type": "display_data",
          "data": {
            "text/plain": [
              "<Figure size 432x432 with 3 Axes>"
            ],
            "image/png": "[encoded data removed]"
          },
          "metadata": {
            "needs_background": "light"
          }
        }
      ]
    },
    {
      "cell_type": "code",
      "source": [
        "sns.jointplot(data = df , x = 'width' , y = 'class', kind = 'kde', fill = True, cmap = 'magma')"
      ],
      "metadata": {
        "colab": {
          "base_uri": "https://localhost:8080/",
          "height": 458
        },
        "id": "CIwTLaVOgjaz",
        "outputId": "81597d46-ed0b-481f-97a4-1976dac6606b"
      },
      "id": "CIwTLaVOgjaz",
      "execution_count": 70,
      "outputs": [
        {
          "output_type": "execute_result",
          "data": {
            "text/plain": [
              "<seaborn.axisgrid.JointGrid at 0x7fc3e4609690>"
            ]
          },
          "metadata": {},
          "execution_count": 70
        },
        {
          "output_type": "display_data",
          "data": {
            "text/plain": [
              "<Figure size 432x432 with 3 Axes>"
            ],
            "image/png": "[encoded data removed]"
          },
          "metadata": {
            "needs_background": "light"
          }
        }
      ]
    },
    {
      "cell_type": "markdown",
      "source": [
        "### Subpart2"
      ],
      "metadata": {
        "id": "Y9Dj_FcCx4nY"
      },
      "id": "Y9Dj_FcCx4nY"
    },
    {
      "cell_type": "code",
      "source": [
        "fig = plt.subplots(figsize = (10,10))\n",
        "sns.heatmap(df.corr(), annot = True)"
      ],
      "metadata": {
        "colab": {
          "base_uri": "https://localhost:8080/",
          "height": 656
        },
        "id": "WYwrwqQ4xzYr",
        "outputId": "8f1160d6-d07a-4082-d5fa-aaf1797ddf19"
      },
      "id": "WYwrwqQ4xzYr",
      "execution_count": 73,
      "outputs": [
        {
          "output_type": "execute_result",
          "data": {
            "text/plain": [
              "<matplotlib.axes._subplots.AxesSubplot at 0x7fc3e13109d0>"
            ]
          },
          "metadata": {},
          "execution_count": 73
        },
        {
          "output_type": "display_data",
          "data": {
            "text/plain": [
              "<Figure size 720x720 with 2 Axes>"
            ],
            "image/png": "[encoded data removed]"
          },
          "metadata": {
            "needs_background": "light"
          }
        }
      ]
    },
    {
      "cell_type": "code",
      "execution_count": 26,
      "id": "8279761e",
      "metadata": {
        "id": "8279761e"
      },
      "outputs": [],
      "source": [
        "X = np.array(df.iloc[0:len(df)-83 , 0:-1])\n",
        "X_test_og = np.array(df.iloc[len(df)-83: , 0:-1])\n",
        "y_test_og = np.array(df.iloc[len(df)-83: , -1])\n",
        "y = np.array(df.iloc[0:len(df)-83  , -1])"
      ]
    },
    {
      "cell_type": "code",
      "execution_count": 27,
      "id": "3b55c1ca",
      "metadata": {
        "id": "3b55c1ca"
      },
      "outputs": [],
      "source": [
        "X_train1,X_test1, y_train1, y_test1 = tts(X,y,test_size = 0.35, random_state = 12)"
      ]
    },
    {
      "cell_type": "markdown",
      "source": [
        "### Subpart3"
      ],
      "metadata": {
        "id": "pLzISCfawucN"
      },
      "id": "pLzISCfawucN"
    },
    {
      "cell_type": "code",
      "execution_count": 28,
      "id": "b1f8c281",
      "metadata": {
        "id": "b1f8c281"
      },
      "outputs": [],
      "source": [
        "models = {'DecisionTree'  : DecisionTreeClassifier() , 'GaussianClassifier' : GaussianNB() , 'RandomForest' : ensemble.RandomForestClassifier()}"
      ]
    },
    {
      "cell_type": "code",
      "execution_count": 29,
      "id": "81098625",
      "metadata": {
        "id": "81098625"
      },
      "outputs": [],
      "source": [
        "results = {}"
      ]
    },
    {
      "cell_type": "code",
      "execution_count": 30,
      "id": "d04908bb",
      "metadata": {
        "id": "d04908bb"
      },
      "outputs": [],
      "source": [
        "for model in models:\n",
        "    results[model] = cvs(models[model], X_train1, y_train1, cv=5, scoring='accuracy')"
      ]
    },
    {
      "cell_type": "code",
      "execution_count": 31,
      "id": "adb30f8f",
      "metadata": {
        "colab": {
          "base_uri": "https://localhost:8080/"
        },
        "id": "adb30f8f",
        "outputId": "dbf3542a-69e5-4ed1-fa48-f0a7c78e9415"
      },
      "outputs": [
        {
          "output_type": "execute_result",
          "data": {
            "text/plain": [
              "{'DecisionTree': array([0.89473684, 0.93684211, 0.92553191, 0.93617021, 0.86170213]),\n",
              " 'GaussianClassifier': array([0.29473684, 0.30526316, 0.28723404, 0.28723404, 0.35106383]),\n",
              " 'RandomForest': array([0.92631579, 0.94736842, 0.93617021, 0.91489362, 0.85106383])}"
            ]
          },
          "metadata": {},
          "execution_count": 31
        }
      ],
      "source": [
        "results"
      ]
    },
    {
      "cell_type": "code",
      "execution_count": 32,
      "id": "238c4c31",
      "metadata": {
        "colab": {
          "base_uri": "https://localhost:8080/",
          "height": 304
        },
        "id": "238c4c31",
        "outputId": "fd5395a4-9b75-45f7-cfa4-d32429ee315b"
      },
      "outputs": [
        {
          "output_type": "execute_result",
          "data": {
            "text/plain": [
              "<matplotlib.axes._subplots.AxesSubplot at 0x7fc3e7f5de50>"
            ]
          },
          "metadata": {},
          "execution_count": 32
        },
        {
          "output_type": "display_data",
          "data": {
            "text/plain": [
              "<Figure size 1512x288 with 3 Axes>"
            ],
            "image/png": "[encoded data removed]"
          },
          "metadata": {
            "needs_background": "light"
          }
        }
      ],
      "source": [
        "df_ = pd.DataFrame()\n",
        "df_['DecisionTree'] = results['DecisionTree']\n",
        "df_['GaussianClassifier'] = results['GaussianClassifier']\n",
        "df_['RandomForest'] = results['RandomForest']\n",
        "df_['Fold'] = [i+1 for i in range(0, 5)]\n",
        "fig, axes = plt.subplots(1,3,figsize=(21,4))\n",
        "sns.pointplot(x = 'Fold', y = 'DecisionTree', data = df_, ax=axes[0])\n",
        "sns.pointplot(x = 'Fold', y = 'GaussianClassifier', data = df_, ax = axes[1])\n",
        "sns.pointplot(x = 'Fold', y = 'RandomForest', data = df_, ax = axes[2])"
      ]
    },
    {
      "cell_type": "markdown",
      "source": [
        "###Subpart4"
      ],
      "metadata": {
        "id": "n2JRXvXyyTNi"
      },
      "id": "n2JRXvXyyTNi"
    },
    {
      "cell_type": "code",
      "execution_count": 33,
      "id": "8971daf4",
      "metadata": {
        "id": "8971daf4"
      },
      "outputs": [],
      "source": [
        "class pca:\n",
        "    def __init__(self, components):\n",
        "        self.components = components\n",
        "        self.eigenComponents = None\n",
        "    def highImpactFeatures(self,X):\n",
        "      res = [i for i in range(X.shape[1])]\n",
        "      vector = self.eigenComponents[0]\n",
        "      idxs = np.argsort(abs(vector))[::-1]\n",
        "      res = np.array(res)[idxs]\n",
        "      return res\n",
        "    def standardScaler(self,X_): ## Scaling of the data\n",
        "        X = X_.copy()\n",
        "        for i in range(X.shape[1]):\n",
        "            mean = np.mean(X[:,i])\n",
        "            sd = np.std(X[:,i])\n",
        "            for j in range(len(X[:, i])):\n",
        "                X[:,i][j] = (X[:,i][j] - mean)/sd\n",
        "        return X\n",
        "    def cov(self,x,y): ## Covariance Matrix\n",
        "        if len(x) != len(y):\n",
        "            return \"Error (Length not same)\"\n",
        "        sum = 0\n",
        "        meanx = np.mean(x)\n",
        "        meany = np.mean(y)\n",
        "        for i in range(len(x)):\n",
        "            sum += ((x[i] - meanx) * (y[i] - meany))\n",
        "        return sum / len(x)\n",
        "    def covarianceMatrix(self, X):\n",
        "        arr = np.ones((X.shape[1], X.shape[1]))\n",
        "        for i in range(X.shape[1]):\n",
        "            for j in range(X.shape[1]):\n",
        "                if i!=j:\n",
        "                    arr[i][j] = self.cov(X[:,i], X[:,j])\n",
        "                else:\n",
        "                    arr[i][j] = np.var(X[:,i])\n",
        "        return arr\n",
        "    def norm(self,u):\n",
        "        s = 0\n",
        "        for i in u:\n",
        "            s += i**2\n",
        "        return s**0.5\n",
        "    def qrDecomposition(self,A):\n",
        "        Q = np.zeros(A.shape)\n",
        "        R = np.zeros(A.shape)\n",
        "        a_s = [A[:,i].copy() for i in range(A.shape[1])]\n",
        "        e_s = []\n",
        "        for a in a_s:\n",
        "            for e in e_s:\n",
        "                a = a - float(np.matmul(a,e)) * e\n",
        "            u = -a / self.norm(a)\n",
        "            e_s.append(u)\n",
        "        for i in range(A.shape[1]):\n",
        "            Q[:,i] = e_s[i].T\n",
        "        for i in range(A.shape[1]):\n",
        "            for j in range(A.shape[1]):\n",
        "                if j>=i:\n",
        "                    R[i][j] = float(np.matmul(a_s[j], e_s[i]))\n",
        "        return Q,R\n",
        "    def eigenDecomposition(self,X, iterations = 1000): ## Function to get eigenvalues and eigenvectors\n",
        "        eigenVals = []\n",
        "        Q = np.zeros(X.shape)\n",
        "        Q_ = []\n",
        "        R = np.zeros(X.shape)\n",
        "        for i in range(iterations):\n",
        "            Q,R = self.qrDecomposition(X)\n",
        "            if i == 0:\n",
        "                Q_ = Q\n",
        "            else:\n",
        "                Q_ = np.matmul(Q_ , Q)\n",
        "            X = np.matmul(R,Q)\n",
        "        for i in range(X.shape[1]):\n",
        "            eigenVals.append(X[i][i])\n",
        "        return eigenVals , [Q_[:,i].copy() for i in range(Q_.shape[1])]\n",
        "    def fit(self,X_):\n",
        "        X = X_.copy()\n",
        "        X = self.standardScaler(X)\n",
        "        co = self.covarianceMatrix(X)\n",
        "        e, ev = self.eigenDecomposition(co)\n",
        "        eigenList = []\n",
        "        for ix,i in enumerate(e):\n",
        "            l=[i , ev[ix]]\n",
        "            eigenList.append(l)\n",
        "        eigenList = sorted(eigenList , reverse=True)\n",
        "        finalVectors = np.array([eigenList[i][1] for i in range(self.components)])\n",
        "        self.eigenComponents = finalVectors\n",
        "        return e,ev\n",
        "    def transform(self,X):\n",
        "        X_ = X.copy()\n",
        "        print()\n",
        "        # return np.matmul(self.eigenComponents , X_.T).T \n",
        "        return np.matmul(X_ , self.eigenComponents.T)  "
      ]
    },
    {
      "cell_type": "markdown",
      "source": [
        "### Subpart5"
      ],
      "metadata": {
        "id": "R86W56GSywLc"
      },
      "id": "R86W56GSywLc"
    },
    {
      "cell_type": "code",
      "execution_count": 74,
      "id": "323a1074",
      "metadata": {
        "id": "323a1074",
        "colab": {
          "base_uri": "https://localhost:8080/"
        },
        "outputId": "31b44f72-75d7-411e-caaf-8577e041e003"
      },
      "outputs": [
        {
          "output_type": "stream",
          "name": "stdout",
          "text": [
            "\n"
          ]
        }
      ],
      "source": [
        "pc = pca(2)\n",
        "e,ev = pc.fit(X)\n",
        "d = pc.transform(X)"
      ]
    },
    {
      "cell_type": "code",
      "execution_count": 75,
      "id": "587e07bb",
      "metadata": {
        "colab": {
          "base_uri": "https://localhost:8080/"
        },
        "id": "587e07bb",
        "outputId": "e844db0e-760a-446c-ca20-ee7c4cca3828"
      },
      "outputs": [
        {
          "output_type": "stream",
          "name": "stdout",
          "text": [
            "78.43137254901961 %\n"
          ]
        }
      ],
      "source": [
        "tr = ensemble.RandomForestClassifier()\n",
        "X_train, X_test , y_train, y_test = tts(d, y, test_size=0.35, random_state=10)\n",
        "tr.fit(X_train, y_train)\n",
        "print(accuracy_score(y_test, tr.predict(X_test))*100,'%')"
      ]
    },
    {
      "cell_type": "code",
      "execution_count": 76,
      "id": "ab14de76",
      "metadata": {
        "id": "ab14de76"
      },
      "outputs": [],
      "source": [
        "models = {'DecisionTree'  : DecisionTreeClassifier() , 'GaussianClassifier' : GaussianNB() , 'RandomForest' :ensemble.RandomForestClassifier() }\n",
        "\n",
        "for model in models:\n",
        "    results[model] = cvs(models[model], X_train, y_train, cv=5)"
      ]
    },
    {
      "cell_type": "code",
      "source": [
        "X_train,X_test, y_train, y_test = tts(X,y,test_size = 0.35, random_state = 12)"
      ],
      "metadata": {
        "id": "J0QYfo7cqSu_"
      },
      "id": "J0QYfo7cqSu_",
      "execution_count": 77,
      "outputs": []
    },
    {
      "cell_type": "code",
      "execution_count": 78,
      "id": "32d89571",
      "metadata": {
        "colab": {
          "base_uri": "https://localhost:8080/",
          "height": 302
        },
        "id": "32d89571",
        "outputId": "6cd29bd0-3d10-41c3-c848-69ba4a23e965"
      },
      "outputs": [
        {
          "output_type": "execute_result",
          "data": {
            "text/plain": [
              "<matplotlib.legend.Legend at 0x7fc3e314d4d0>"
            ]
          },
          "metadata": {},
          "execution_count": 78
        },
        {
          "output_type": "display_data",
          "data": {
            "text/plain": [
              "<Figure size 432x288 with 1 Axes>"
            ],
            "image/png": "[encoded data removed]"
          },
          "metadata": {
            "needs_background": "light"
          }
        }
      ],
      "source": [
        "fig, axes = plt.subplots()\n",
        "df_ = pd.DataFrame()\n",
        "df_['DecisionTree'] = results['DecisionTree']\n",
        "df_['GaussianClassifier'] = results['GaussianClassifier']\n",
        "df_['Models'] = results['RandomForest']\n",
        "df_['Fold'] = [i+1 for i in range(0, 5)]\n",
        "sns.lineplot(x = 'Fold', y = 'DecisionTree', data = df_, palette = 'magma')\n",
        "sns.lineplot(x = 'Fold', y = 'GaussianClassifier', data = df_,palette='magma')\n",
        "sns.lineplot(x = 'Fold', y = 'Models', data = df_, palette = 'magma')\n",
        "plt.legend(labels=[\"DecisionTree\",\"GaussianClassifier\",\"RandomForest\"])"
      ]
    },
    {
      "cell_type": "markdown",
      "source": [
        "### Subpart6"
      ],
      "metadata": {
        "id": "Y5KLyhHzy7nO"
      },
      "id": "Y5KLyhHzy7nO"
    },
    {
      "cell_type": "code",
      "execution_count": 104,
      "id": "50bd4fef",
      "metadata": {
        "id": "50bd4fef"
      },
      "outputs": [],
      "source": [
        "X_trainp, X_testp , y_trainp, y_testp = tts(d, y, test_size=0.35, random_state=10)\n",
        "metric = {'Accuracy':accuracy_score}\n",
        "results = {}\n",
        "for i in models:\n",
        "    results[i] = {}\n",
        "for mod in models:\n",
        "    for me in metric:\n",
        "        results[mod][me] = [metric[me](y_testp ,models[mod].fit(X_trainp,y_trainp).predict(X_testp)), metric[me](y_test ,models[mod].fit(X_train,y_train).predict(X_test))]"
      ]
    },
    {
      "cell_type": "code",
      "execution_count": 105,
      "id": "83421055",
      "metadata": {
        "id": "83421055"
      },
      "outputs": [],
      "source": [
        "metric = {'f1Score':metrics.f1_score}\n",
        "for mod in models:\n",
        "    for me in metric:\n",
        "        results[mod][me] = [metric[me](y_testp ,models[mod].fit(X_trainp,y_trainp).predict(X_testp), average='macro'), metric[me](y_test ,models[mod].fit(X_train,y_train).predict(X_test), average = 'macro')]"
      ]
    },
    {
      "cell_type": "code",
      "source": [
        "results\n",
        "for mod in results:\n",
        "  print(mod+' :')\n",
        "  print('With PCA Accuracy :',results[mod]['Accuracy'][0])\n",
        "  print('Without PCA Accuracy :',results[mod]['Accuracy'][1]) \n",
        "  print('With PCA f1Score :',results[mod]['f1Score'][0])\n",
        "  print('Without PCA f1Score :',results[mod]['f1Score'][1])"
      ],
      "metadata": {
        "colab": {
          "base_uri": "https://localhost:8080/"
        },
        "id": "uauL46XKq4vp",
        "outputId": "00c39cd1-4086-4258-9423-af0fe40cc394"
      },
      "id": "uauL46XKq4vp",
      "execution_count": 108,
      "outputs": [
        {
          "output_type": "stream",
          "name": "stdout",
          "text": [
            "DecisionTree :\n",
            "With PCA Accuracy : 0.7607843137254902\n",
            "Without PCA Accuracy : 0.8117647058823529\n",
            "With PCA f1Score : 0.6610407876230662\n",
            "Without PCA f1Score : 0.7439237206386936\n",
            "GaussianClassifier :\n",
            "With PCA Accuracy : 0.788235294117647\n",
            "Without PCA Accuracy : 0.5294117647058824\n",
            "With PCA f1Score : 0.17631578947368423\n",
            "Without PCA f1Score : 0.39242029075934365\n",
            "RandomForest :\n",
            "With PCA Accuracy : 0.7607843137254902\n",
            "Without PCA Accuracy : 0.8588235294117647\n",
            "With PCA f1Score : 0.6053316222364813\n",
            "Without PCA f1Score : 0.7341199528440908\n"
          ]
        }
      ]
    },
    {
      "cell_type": "code",
      "execution_count": 82,
      "id": "84e6fd06",
      "metadata": {
        "id": "84e6fd06"
      },
      "outputs": [],
      "source": [
        "dfPca = pd.DataFrame(d)\n",
        "dfPca.columns = ['PC1','PC2']\n",
        "dfPca['class'] = y"
      ]
    },
    {
      "cell_type": "markdown",
      "source": [
        "### Subpart7"
      ],
      "metadata": {
        "id": "hhf2pGWD1Qpi"
      },
      "id": "hhf2pGWD1Qpi"
    },
    {
      "cell_type": "code",
      "execution_count": 83,
      "id": "a40d75bf",
      "metadata": {
        "colab": {
          "base_uri": "https://localhost:8080/",
          "height": 391
        },
        "id": "a40d75bf",
        "outputId": "226f45fa-b69c-46d2-ade8-d89fad1e6057"
      },
      "outputs": [
        {
          "output_type": "execute_result",
          "data": {
            "text/plain": [
              "<seaborn.axisgrid.PairGrid at 0x7fc3e18bc150>"
            ]
          },
          "metadata": {},
          "execution_count": 83
        },
        {
          "output_type": "display_data",
          "data": {
            "text/plain": [
              "<Figure size 406.6x360 with 6 Axes>"
            ],
            "image/png": "[encoded data removed]"
          },
          "metadata": {
            "needs_background": "light"
          }
        }
      ],
      "source": [
        "sns.pairplot(dfPca, hue = 'class', palette = 'magma') ## 2 components were used"
      ]
    },
    {
      "cell_type": "code",
      "execution_count": 84,
      "id": "2b3f2730",
      "metadata": {
        "id": "2b3f2730",
        "colab": {
          "base_uri": "https://localhost:8080/"
        },
        "outputId": "28a84214-7fec-470f-8d80-63b525244b81"
      },
      "outputs": [
        {
          "output_type": "stream",
          "name": "stdout",
          "text": [
            "\n",
            "\n",
            "\n",
            "\n",
            "\n",
            "\n",
            "\n",
            "\n",
            "\n"
          ]
        }
      ],
      "source": [
        "f1 = metrics.f1_score\n",
        "res = []\n",
        "\n",
        "for i in range(1, 10):\n",
        "    pc = pca(i)\n",
        "    pc.fit(X)\n",
        "    d_= pc.transform(X)\n",
        "    xtr,xte,ytr,yte = tts(d_ , y , test_size=0.2, random_state=10)\n",
        "    tr = ensemble.RandomForestClassifier()\n",
        "    tr.fit(xtr , ytr)\n",
        "    y_pred = tr.predict(xte)\n",
        "    res.append(f1(yte, y_pred, average='macro'))"
      ]
    },
    {
      "cell_type": "code",
      "execution_count": 85,
      "id": "34c21bb2",
      "metadata": {
        "colab": {
          "base_uri": "https://localhost:8080/",
          "height": 302
        },
        "id": "34c21bb2",
        "outputId": "61e7fdad-e361-46bf-baa7-6069266e20c8"
      },
      "outputs": [
        {
          "output_type": "execute_result",
          "data": {
            "text/plain": [
              "<matplotlib.axes._subplots.AxesSubplot at 0x7fc3e18bccd0>"
            ]
          },
          "metadata": {},
          "execution_count": 85
        },
        {
          "output_type": "display_data",
          "data": {
            "text/plain": [
              "<Figure size 432x288 with 1 Axes>"
            ],
            "image/png": "[encoded data removed]"
          },
          "metadata": {
            "needs_background": "light"
          }
        }
      ],
      "source": [
        "df_ = pd.DataFrame()\n",
        "df_['f1Score'] = res\n",
        "df_['Components'] = [i for i in range(1,10)]\n",
        "sns.pointplot(x = 'Components', y = 'f1Score', data = df_)"
      ]
    },
    {
      "cell_type": "code",
      "execution_count": 86,
      "id": "f18cfef2",
      "metadata": {
        "id": "f18cfef2"
      },
      "outputs": [],
      "source": [
        "variance = []\n",
        "listEigen = [[e[i],ev[i]] for i in range(len(e))]\n",
        "s = 0\n",
        "for i in listEigen:\n",
        "    s += i[0]\n",
        "for i in range(len(listEigen)):\n",
        "    listEigen[i][0] = listEigen[i][0] / s\n",
        "    variance.append(listEigen[i][0]* 100)"
      ]
    },
    {
      "cell_type": "code",
      "execution_count": 87,
      "id": "4e5b1fd2",
      "metadata": {
        "colab": {
          "base_uri": "https://localhost:8080/",
          "height": 302
        },
        "id": "4e5b1fd2",
        "outputId": "cd9ce00b-45ea-4b7b-e9c2-2279595a42ee"
      },
      "outputs": [
        {
          "output_type": "execute_result",
          "data": {
            "text/plain": [
              "<matplotlib.axes._subplots.AxesSubplot at 0x7fc3e0efc310>"
            ]
          },
          "metadata": {},
          "execution_count": 87
        },
        {
          "output_type": "display_data",
          "data": {
            "text/plain": [
              "<Figure size 432x288 with 1 Axes>"
            ],
            "image/png": "[encoded data removed]"
          },
          "metadata": {
            "needs_background": "light"
          }
        }
      ],
      "source": [
        "df_ = pd.DataFrame()\n",
        "df_['Variances (%)'] = variance\n",
        "df_['Component'] = [i for i in range(1,10)]\n",
        "sns.barplot(x = 'Component', y = 'Variances (%)', data = df_)"
      ]
    },
    {
      "cell_type": "markdown",
      "id": "7e35b540",
      "metadata": {
        "id": "7e35b540"
      },
      "source": [
        "## Question 2"
      ]
    },
    {
      "cell_type": "code",
      "execution_count": 88,
      "id": "80bb8744",
      "metadata": {
        "id": "80bb8744"
      },
      "outputs": [],
      "source": [
        "class lda:\n",
        "    def __init__(self, autoComponents,components=2,var = 0):\n",
        "        self.components = components\n",
        "        self.classWithinMatrix = None\n",
        "        self.classBetweenMatrix = None\n",
        "        self.classWiseMatrix = {}\n",
        "        self.linear_discriminants = None\n",
        "        self.autoComponents = autoComponents\n",
        "        self.var = var\n",
        "        self.model = ensemble.RandomForestClassifier()\n",
        "    def componentsSelector(self,var, eev_): ## b. Function that automatically selects the number of linear discriminants\n",
        "        eev = eev_.copy()\n",
        "        s = 0\n",
        "        for i in eev:\n",
        "            s += abs(i[0])\n",
        "        for i in range(len(eev)):\n",
        "            eev[i][0] = abs(eev[i][0]) / s\n",
        "        c = 0\n",
        "        count = 0\n",
        "        while c <= var and count < len(eev):\n",
        "            c += eev[count][0]\n",
        "            count += 1\n",
        "        return count\n",
        "    def classSpecificMatrix(self,X_, clas):\n",
        "        X = X_.astype('float32').copy()\n",
        "        meanV = [np.mean(X[:,i].copy()) for i in range(X.shape[1])]\n",
        "        for i in range(len(X)):\n",
        "            X[i] = X[i] - meanV\n",
        "        s = np.zeros((X.shape[1], X.shape[1]))\n",
        "        for row in X:\n",
        "            temp = np.dot(row.reshape(row.shape + (1,)), np.array([row]))\n",
        "            s += temp\n",
        "        self.classWiseMatrix[clas] = s\n",
        "        return s\n",
        "    def withinClassMatrix(self,X,y): ## a. Within Class Matrix\n",
        "        classes = np.unique(y.copy())\n",
        "        s = np.zeros((X.shape[1], X.shape[1]))\n",
        "        for cla in classes:\n",
        "            s += self.classSpecificMatrix(X[y == cla].copy(), cla)\n",
        "        return s\n",
        "    def betweenClassMatrix(self,X,y): ## a. Between Class Matrix\n",
        "        meanOverall = np.array([np.mean(X[:,i]) for i in range(X.shape[1])]).astype('float32')\n",
        "        classes = np.unique(y.copy())\n",
        "        s = np.zeros((X.shape[1], X.shape[1]))\n",
        "        for cla in classes:\n",
        "            ni = len(X[y == cla])\n",
        "            meanClass = np.array([np.mean(X[y == cla].copy()[:,i]) for i in range(X.shape[1])]).astype('float32')\n",
        "            meanClass = meanClass - meanOverall\n",
        "            temp = np.dot(meanClass.reshape(meanClass.shape + (1,)), np.array([meanClass]))\n",
        "            s+= ni * temp\n",
        "        return s\n",
        "    def norm(self,u):\n",
        "        s = 0\n",
        "        for i in u:\n",
        "            s += i**2\n",
        "        return s**0.5\n",
        "    def qrDecomposition(self,A):\n",
        "        Q = np.zeros(A.shape)\n",
        "        R = np.zeros(A.shape)\n",
        "        a_s = [A[:,i].copy() for i in range(A.shape[1])]\n",
        "        e_s = []\n",
        "        for a in a_s:\n",
        "            for e in e_s:\n",
        "                a = a - float(np.matmul(a,e)) * e\n",
        "            u = -a / self.norm(a)\n",
        "            e_s.append(u)\n",
        "        for i in range(A.shape[1]):\n",
        "            Q[:,i] = e_s[i].T\n",
        "        for i in range(A.shape[1]):\n",
        "            for j in range(A.shape[1]):\n",
        "                if j>=i:\n",
        "                    R[i][j] = float(np.matmul(a_s[j], e_s[i]))\n",
        "        return Q,R\n",
        "    def eigenDecomposition(self,X, iterations = 1000):\n",
        "        eigenVals = []\n",
        "        Q = np.zeros(X.shape)\n",
        "        Q_ = []\n",
        "        R = np.zeros(X.shape)\n",
        "        for i in range(iterations):\n",
        "            Q,R = self.qrDecomposition(X)\n",
        "            if i == 0:\n",
        "                Q_ = Q\n",
        "            else:\n",
        "                Q_ = np.matmul(Q_ , Q)\n",
        "            X = np.matmul(R,Q)\n",
        "        for i in range(X.shape[1]):\n",
        "            eigenVals.append(X[i][i])\n",
        "        return eigenVals , [Q_[:,i].copy() for i in range(Q_.shape[1])]\n",
        "    def finalMatrix(self,sw,sb):\n",
        "        return np.dot(np.linalg.inv(sw) , sb)\n",
        "    def fit(self,X,y):\n",
        "        SW = self.withinClassMatrix(X,y)\n",
        "        SB = self.betweenClassMatrix(X,y)\n",
        "        self.withinClassMatrix = SW\n",
        "        self.betweenClassMatrix = SB\n",
        "        A = self.finalMatrix(SW,SB)\n",
        "        eigenvalues, eigenvectors = self.eigenDecomposition(A)\n",
        "        eigenvalues = np.array(eigenvalues)\n",
        "        eigenvectors = np.array(eigenvectors)\n",
        "        idxs = np.argsort(abs(eigenvalues))[::-1]\n",
        "        eigenvalues = eigenvalues[idxs]\n",
        "        eigenvectors = eigenvectors[idxs]\n",
        "        if self.autoComponents == True:\n",
        "            self.components = self.componentsSelector(self.var , [[eigenvalues[i].copy(), eigenvectors[i].copy()] for i in range(len(eigenvalues))])\n",
        "        self.linear_discriminants = eigenvectors[0:self.components]\n",
        "        self.model.fit(np.dot(X, self.linear_discriminants.T),y)\n",
        "    def transform(self, X):\n",
        "        return np.dot(X, self.linear_discriminants.T)\n",
        "    def highImpactFeatures(self,X):\n",
        "      res = [i for i in range(X.shape[1])]\n",
        "      vector = self.linear_discriminants[0]\n",
        "      idxs = np.argsort(abs(vector))[::-1]\n",
        "      res = np.array(res)[idxs]\n",
        "      return res\n",
        "    def predict(self,xte):\n",
        "        return self.model.predict(xte)\n",
        "    def predict_proba(self,xte):\n",
        "        return self.model.predict_proba(xte)"
      ]
    },
    {
      "cell_type": "markdown",
      "source": [
        "### Subpart2"
      ],
      "metadata": {
        "id": "YRB-EAgA2OFi"
      },
      "id": "YRB-EAgA2OFi"
    },
    {
      "cell_type": "code",
      "source": [
        "pc = pca(4)\n",
        "ld = lda(False,4)\n",
        "pc.fit(X)\n",
        "ld.fit(X,y)\n",
        "X_pc_tr = np.array(pc.transform(X_train))\n",
        "X_pc = np.array(pc.transform(X_test_og))\n",
        "X_ld_tr = np.array(ld.transform(X_train))\n",
        "X_ld = np.array(ld.transform(X_test_og))\n",
        "print('PCA (RandomForest)(Accuracy) -->',metrics.accuracy_score(y_test_og,ensemble.RandomForestClassifier().fit(X_pc_tr,y_train).predict(X_pc) ))\n",
        "print('LDA (RandomForest)(Accuracy) -- >',metrics.accuracy_score(y_test_og,ensemble.RandomForestClassifier().fit(X_ld_tr,y_train).predict(X_ld) ))\n",
        "print('PCA (RandomForest)(F1score) -->',metrics.f1_score(y_test_og,ensemble.RandomForestClassifier().fit(X_pc_tr,y_train).predict(X_pc) ,average='macro'))\n",
        "print('LDA (RandomForest)(F1score) -- >',metrics.f1_score(y_test_og,ensemble.RandomForestClassifier().fit(X_ld_tr,y_train).predict(X_ld) ,average='macro'))"
      ],
      "metadata": {
        "colab": {
          "base_uri": "https://localhost:8080/"
        },
        "id": "WOpFQIe92U-J",
        "outputId": "3fbee89c-fac9-4778-fb8c-9f7d2c59149b"
      },
      "id": "WOpFQIe92U-J",
      "execution_count": 89,
      "outputs": [
        {
          "output_type": "stream",
          "name": "stdout",
          "text": [
            "\n",
            "\n",
            "PCA (RandomForest)(Accuracy) --> 0.8433734939759037\n",
            "LDA (RandomForest)(Accuracy) -- > 0.9156626506024096\n",
            "PCA (RandomForest)(F1score) --> 0.47188811188811197\n",
            "LDA (RandomForest)(F1score) -- > 0.8381124913733609\n"
          ]
        }
      ]
    },
    {
      "cell_type": "code",
      "source": [
        "pc = pca(2)\n",
        "ld = lda(False)\n",
        "pc.fit(X)\n",
        "ld.fit(X,y)\n",
        "X_pc = np.array(pc.transform(X))\n",
        "X_ld = np.array(ld.transform(X))\n",
        "df_pca = pd.DataFrame()\n",
        "df_lda = pd.DataFrame()\n",
        "df_pca['PCA1'] = X_pc[:,0]\n",
        "df_pca['PCA2'] = X_pc[:,1]\n",
        "df_lda['LDA1'] = X_ld[:,0]\n",
        "df_lda['LDA2'] = X_ld[:,1]\n",
        "df_pca['Class'] = y\n",
        "df_lda['Class'] = y\n",
        "sns.pairplot(df_pca, hue = 'Class')\n",
        "sns.pairplot(df_lda, hue = 'Class')"
      ],
      "metadata": {
        "colab": {
          "base_uri": "https://localhost:8080/",
          "height": 766
        },
        "id": "D-gN1pLL5vm2",
        "outputId": "aedd482c-432c-4f06-d6e3-dcb2f5d2f03f"
      },
      "id": "D-gN1pLL5vm2",
      "execution_count": 90,
      "outputs": [
        {
          "output_type": "stream",
          "name": "stdout",
          "text": [
            "\n"
          ]
        },
        {
          "output_type": "execute_result",
          "data": {
            "text/plain": [
              "<seaborn.axisgrid.PairGrid at 0x7fc3e0e605d0>"
            ]
          },
          "metadata": {},
          "execution_count": 90
        },
        {
          "output_type": "display_data",
          "data": {
            "text/plain": [
              "<Figure size 406.6x360 with 6 Axes>"
            ],
            "image/png": "[encoded data removed]"
          },
          "metadata": {
            "needs_background": "light"
          }
        },
        {
          "output_type": "display_data",
          "data": {
            "text/plain": [
              "<Figure size 406.6x360 with 6 Axes>"
            ],
            "image/png": "[encoded data removed]"
          },
          "metadata": {
            "needs_background": "light"
          }
        }
      ]
    },
    {
      "cell_type": "markdown",
      "source": [
        "### Subpart3"
      ],
      "metadata": {
        "id": "wz3_SxW417Rn"
      },
      "id": "wz3_SxW417Rn"
    },
    {
      "cell_type": "code",
      "execution_count": 91,
      "id": "66dbdedc",
      "metadata": {
        "colab": {
          "base_uri": "https://localhost:8080/",
          "height": 409
        },
        "id": "66dbdedc",
        "outputId": "d583a26e-edbc-41b6-d046-a8b239047ac6"
      },
      "outputs": [
        {
          "output_type": "stream",
          "name": "stdout",
          "text": [
            "\n"
          ]
        },
        {
          "output_type": "execute_result",
          "data": {
            "text/plain": [
              "<seaborn.axisgrid.PairGrid at 0x7fc3e0be0e10>"
            ]
          },
          "metadata": {},
          "execution_count": 91
        },
        {
          "output_type": "display_data",
          "data": {
            "text/plain": [
              "<Figure size 406.6x360 with 6 Axes>"
            ],
            "image/png": "[encoded data removed]"
          },
          "metadata": {
            "needs_background": "light"
          }
        }
      ],
      "source": [
        "pc = pca(2)\n",
        "ld = lda(False)\n",
        "pc.fit(X)\n",
        "ld.fit(X,y)\n",
        "X_pc = np.array(pc.transform(X))\n",
        "X_ld = np.array(ld.transform(X))\n",
        "df_pca = pd.DataFrame()\n",
        "df_lda = pd.DataFrame()\n",
        "df_pca['PCA1'] = X_pc[:,0]\n",
        "df_pca['PCA2'] = X_pc[:,1]\n",
        "df_lda['LDA1'] = X_ld[:,0]\n",
        "df_lda['LDA2'] = X_ld[:,1]\n",
        "df_pca['Class'] = y\n",
        "df_lda['Class'] = y\n",
        "sns.pairplot(df_pca, hue = 'Class')"
      ]
    },
    {
      "cell_type": "code",
      "execution_count": 92,
      "id": "5135306d",
      "metadata": {
        "colab": {
          "base_uri": "https://localhost:8080/",
          "height": 391
        },
        "id": "5135306d",
        "outputId": "61858d8d-c466-4ab4-b66e-eb21ca678630"
      },
      "outputs": [
        {
          "output_type": "execute_result",
          "data": {
            "text/plain": [
              "<seaborn.axisgrid.PairGrid at 0x7fc3e0dcb290>"
            ]
          },
          "metadata": {},
          "execution_count": 92
        },
        {
          "output_type": "display_data",
          "data": {
            "text/plain": [
              "<Figure size 406.6x360 with 6 Axes>"
            ],
            "image/png": "[encoded data removed]"
          },
          "metadata": {
            "needs_background": "light"
          }
        }
      ],
      "source": [
        "sns.pairplot(df_lda, hue = 'Class')"
      ]
    },
    {
      "cell_type": "code",
      "source": [
        "## Getting features with highest Impact ## Code is available in the classes defined above\n",
        "ld = lda(False)\n",
        "ld.fit(X,y)\n",
        "resultsLDA = ld.highImpactFeatures(X)\n",
        "ld = pca(2)\n",
        "ld.fit(X)\n",
        "resultsPCA = ld.highImpactFeatures(X)\n",
        "print('Best features PCA :')\n",
        "for i in resultsPCA:\n",
        "  print(i, end = ' ')\n",
        "print()\n",
        "print('Best features LDA :')\n",
        "for i in resultsLDA:\n",
        "  print(i, end = ' ')"
      ],
      "metadata": {
        "colab": {
          "base_uri": "https://localhost:8080/"
        },
        "id": "h8Y7tMI_DjLu",
        "outputId": "51472bba-7711-4d78-e71d-9293cad2b050"
      },
      "id": "h8Y7tMI_DjLu",
      "execution_count": 93,
      "outputs": [
        {
          "output_type": "stream",
          "name": "stdout",
          "text": [
            "Best features PCA :\n",
            "4 7 8 1 5 0 3 2 6 \n",
            "Best features LDA :\n",
            "5 8 4 2 0 1 3 6 7 "
          ]
        }
      ]
    },
    {
      "cell_type": "markdown",
      "source": [
        "### Subpart4"
      ],
      "metadata": {
        "id": "7W-MiQnbHBwE"
      },
      "id": "7W-MiQnbHBwE"
    },
    {
      "cell_type": "code",
      "source": [
        "dicResults = {'RandomForest':{} , 'GaussianNB':{}}\n",
        "pc = pca(4)\n",
        "ld = lda(False,4)\n",
        "pc.fit(X)\n",
        "ld.fit(X,y)\n",
        "X_pc_tr = np.array(pc.transform(X_train))\n",
        "X_pc = np.array(pc.transform(X_test_og))\n",
        "X_ld_tr = np.array(ld.transform(X_train))\n",
        "X_ld = np.array(ld.transform(X_test_og))\n",
        "dicResults['RandomForest']['PCA'] = metrics.accuracy_score(y_test_og,ensemble.RandomForestClassifier().fit(X_pc_tr,y_train).predict(X_pc) )\n",
        "dicResults['RandomForest']['LDA'] = metrics.accuracy_score(y_test_og,ensemble.RandomForestClassifier().fit(X_ld_tr,y_train).predict(X_ld) )\n",
        "dicResults['GaussianNB']['PCA'] = metrics.accuracy_score(y_test_og,naive_bayes.GaussianNB().fit(X_pc_tr,y_train).predict(X_pc) )\n",
        "dicResults['GaussianNB']['LDA'] = metrics.accuracy_score(y_test_og,naive_bayes.GaussianNB().fit(X_ld_tr,y_train).predict(X_ld) )"
      ],
      "metadata": {
        "id": "khY9HYiEHF-B",
        "colab": {
          "base_uri": "https://localhost:8080/"
        },
        "outputId": "760fb959-ac16-4580-8543-933d85068f1a"
      },
      "id": "khY9HYiEHF-B",
      "execution_count": 94,
      "outputs": [
        {
          "output_type": "stream",
          "name": "stdout",
          "text": [
            "\n",
            "\n"
          ]
        }
      ]
    },
    {
      "cell_type": "code",
      "source": [
        "print('      RandomForest       ','GaussianNB')\n",
        "print('LDA',dicResults['RandomForest']['LDA'],dicResults['GaussianNB']['LDA'])\n",
        "print('PCA',dicResults['RandomForest']['PCA'],dicResults['GaussianNB']['PCA'])\n",
        "\n",
        "## Better Results were obtained in the case of PCA and RandomForestClassifier, PCA gave better results overall."
      ],
      "metadata": {
        "colab": {
          "base_uri": "https://localhost:8080/"
        },
        "id": "_xCcjABJIh03",
        "outputId": "093c40d7-0fb3-443f-b9ba-d06d048431e5"
      },
      "id": "_xCcjABJIh03",
      "execution_count": 95,
      "outputs": [
        {
          "output_type": "stream",
          "name": "stdout",
          "text": [
            "      RandomForest        GaussianNB\n",
            "LDA 0.927710843373494 0.5301204819277109\n",
            "PCA 0.8433734939759037 0.6746987951807228\n"
          ]
        }
      ]
    },
    {
      "cell_type": "markdown",
      "source": [
        "### Subpart5"
      ],
      "metadata": {
        "id": "Jor_4A3VK335"
      },
      "id": "Jor_4A3VK335"
    },
    {
      "cell_type": "code",
      "execution_count": 96,
      "id": "e3a5957b",
      "metadata": {
        "id": "e3a5957b"
      },
      "outputs": [],
      "source": [
        "def truePositive(yt, y):\n",
        "    tp = 0\n",
        "    tn = 0\n",
        "    fp = 0\n",
        "    fn = 0\n",
        "    for ix,i in enumerate(yt):\n",
        "        if i == y[ix] and y[ix] == 1:\n",
        "            tp += 1\n",
        "        elif i == y[ix] and y[ix] != 1:\n",
        "            tn +=1\n",
        "        elif i != y[ix] and y[ix] == 1:\n",
        "            fp +=1\n",
        "        elif i!= y[ix] and y[ix] != 1:\n",
        "            fn += 1\n",
        "    if tp == 0:\n",
        "        return tp\n",
        "    return float(tp / (tp + fn))\n",
        "def falsePositive(yt, y):\n",
        "    tp = 0\n",
        "    tn = 0\n",
        "    fp = 0\n",
        "    fn = 0\n",
        "    for ix,i in enumerate(yt):\n",
        "        if i == y[ix] and y[ix] == 1:\n",
        "            tp += 1\n",
        "        elif i == y[ix] and y[ix] != 1:\n",
        "            tn +=1\n",
        "        elif i != y[ix] and y[ix] == 1:\n",
        "            fp +=1\n",
        "        elif i!= y[ix] and y[ix] != 1:\n",
        "            fn += 1\n",
        "    if fp == 0:\n",
        "        return fp\n",
        "    return float(fp / (fp + tn))"
      ]
    },
    {
      "cell_type": "code",
      "execution_count": 97,
      "id": "c75b9f72",
      "metadata": {
        "id": "c75b9f72"
      },
      "outputs": [],
      "source": [
        "## Function to get the points for the ROC Curve\n",
        "\n",
        "def ROCpoints(Xtr,ytr,Xte,yte, model):\n",
        "    area = []\n",
        "    thresholds = np.linspace(-0.01,1.01,100)\n",
        "    model.fit(Xtr,ytr) \n",
        "    Xte = model.transform(Xte)\n",
        "    yProb = np.array(model.predict_proba(Xte))\n",
        "    mainArray = {}\n",
        "    for cla in range(len(np.unique(ytr))):\n",
        "        yClass = yte.copy()\n",
        "        yClass[yte != cla] = -1\n",
        "        yClass[yte == cla] = 1\n",
        "        yProbClass = yProb.copy()\n",
        "        points = []\n",
        "        for th in thresholds:\n",
        "            ypredClass = []\n",
        "            for ix,predi in enumerate(yProbClass):\n",
        "                if predi[cla] >= th:\n",
        "                    ypredClass.append(1)\n",
        "                else:\n",
        "                    ypredClass.append(-1)\n",
        "            points.append([falsePositive(yClass,ypredClass),truePositive(yClass,ypredClass)])\n",
        "        mainArray[cla] = np.array(points)\n",
        "    return mainArray"
      ]
    },
    {
      "cell_type": "code",
      "execution_count": 98,
      "id": "950c70a1",
      "metadata": {
        "id": "950c70a1"
      },
      "outputs": [],
      "source": [
        "ld = lda(False)\n",
        "ld.fit(X,y)\n",
        "X_ = ld.transform(X)\n",
        "X_train,X_test,y_train,y_test = tts(X_,y,test_size=0.35, random_state=12)"
      ]
    },
    {
      "cell_type": "code",
      "execution_count": 99,
      "id": "12c8f4a7",
      "metadata": {
        "id": "12c8f4a7"
      },
      "outputs": [],
      "source": [
        "def auc(points):\n",
        "    xaxis = points[:,0][::-1].copy()\n",
        "    yaxis = points[:,1][::-1].copy()\n",
        "    s = 0.0\n",
        "    for i in range(len(xaxis) - 1):\n",
        "        s += float(0.5 * (xaxis[i+1] - xaxis[i]) * (yaxis[i+1]+yaxis[i]))\n",
        "    return s"
      ]
    },
    {
      "cell_type": "code",
      "execution_count": 100,
      "id": "dda10ed3",
      "metadata": {
        "id": "dda10ed3"
      },
      "outputs": [],
      "source": [
        "k = kf()\n",
        "dicfold = {}\n",
        "count = 1\n",
        "for train_index, test_index in k.split(X):\n",
        "    Xtr, Xte = X[train_index].copy(), X[test_index].copy()\n",
        "    ytr, yte = y[train_index].copy(), y[test_index].copy()\n",
        "    rocCurve = ROCpoints(Xtr,ytr,Xte,yte,lda(False))\n",
        "    dicfold[count] = rocCurve\n",
        "    count += 1"
      ]
    },
    {
      "cell_type": "code",
      "execution_count": 101,
      "id": "e736583f",
      "metadata": {
        "id": "e736583f"
      },
      "outputs": [],
      "source": [
        "FoldsAUC = {}\n",
        "for fold in dicfold:\n",
        "    l  = dicfold[fold]\n",
        "    dicArea = {}\n",
        "    for cla in l:\n",
        "        dicArea[cla] = auc(l[cla])\n",
        "    FoldsAUC[fold] = dicArea\n",
        "## Dictionary containg the auc for different classes and folds"
      ]
    },
    {
      "cell_type": "code",
      "execution_count": 102,
      "id": "af39ffbc",
      "metadata": {
        "colab": {
          "base_uri": "https://localhost:8080/",
          "height": 666
        },
        "id": "af39ffbc",
        "outputId": "6fd405e7-3989-42b4-8fc5-43673f98f4a0"
      },
      "outputs": [
        {
          "output_type": "display_data",
          "data": {
            "text/plain": [
              "<Figure size 864x720 with 5 Axes>"
            ],
            "image/png": "[encoded data removed]"
          },
          "metadata": {
            "needs_background": "light"
          }
        }
      ],
      "source": [
        "figure, axes = plt.subplots(2,3,figsize = (12,10))\n",
        "def ROCcurve(l,x,y,fold):\n",
        "    for cla in l:\n",
        "        xaxis = l[cla][:,0]\n",
        "        yaxis = l[cla][:,1]\n",
        "        axes[x,y].plot(xaxis,yaxis)\n",
        "        axes[x,y].set_title('Fold-'+str(fold))\n",
        "    axes[x,y].legend(['Class_'+str(cla) for cla in l])\n",
        "ROCcurve(dicfold[1],0,0,1)\n",
        "ROCcurve(dicfold[2],0,1,2)\n",
        "ROCcurve(dicfold[3],0,2,3)\n",
        "ROCcurve(dicfold[4],1,0,4)\n",
        "ROCcurve(dicfold[5],1,1,5)\n",
        "figure.suptitle('ROC Curves')\n",
        "axes[1,2].remove()\n",
        "plt.show()"
      ]
    },
    {
      "cell_type": "code",
      "execution_count": 103,
      "id": "ccd73752",
      "metadata": {
        "colab": {
          "base_uri": "https://localhost:8080/",
          "height": 806
        },
        "id": "ccd73752",
        "outputId": "678cb22d-7c0d-46f0-9346-fc628231c484"
      },
      "outputs": [
        {
          "output_type": "display_data",
          "data": {
            "text/plain": [
              "<Figure size 1080x864 with 5 Axes>"
            ],
            "image/png": "[encoded data removed]"
          },
          "metadata": {
            "needs_background": "light"
          }
        }
      ],
      "source": [
        "figure, axes = plt.subplots(2,3,figsize = (15,12))\n",
        "def AUCcurve(l,x,y,fold):\n",
        "    areas = [l[i] for i in l]\n",
        "    classes = [i for i in l]\n",
        "    df_ = pd.DataFrame()\n",
        "    df_['AUC'] = areas\n",
        "    df_['Classes'] = classes\n",
        "    sns.barplot(x = 'Classes', y = 'AUC', data = df_, ax=axes[x,y])\n",
        "    axes[x,y].set_title('Fold-'+str(fold))\n",
        "AUCcurve(FoldsAUC[1],0,0,1)\n",
        "AUCcurve(FoldsAUC[2],0,1,2)\n",
        "AUCcurve(FoldsAUC[3],0,2,3)\n",
        "AUCcurve(FoldsAUC[4],1,0,4)\n",
        "AUCcurve(FoldsAUC[5],1,1,5)\n",
        "figure.suptitle('AUC Representation')\n",
        "axes[1,2].remove()\n",
        "plt.show()"
      ]
    }
  ],
  "metadata": {
    "kernelspec": {
      "display_name": "machineLearning",
      "language": "python",
      "name": "machinelearning"
    },
    "language_info": {
      "codemirror_mode": {
        "name": "ipython",
        "version": 3
      },
      "file_extension": ".py",
      "mimetype": "text/x-python",
      "name": "python",
      "nbconvert_exporter": "python",
      "pygments_lexer": "ipython3",
      "version": "3.9.7"
    },
    "colab": {
      "name": "B20CS086.ipynb",
      "provenance": []
    }
  },
  "nbformat": 4,
  "nbformat_minor": 5
}